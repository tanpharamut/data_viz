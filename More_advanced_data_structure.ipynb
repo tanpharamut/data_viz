{
  "nbformat": 4,
  "nbformat_minor": 0,
  "metadata": {
    "colab": {
      "name": "More advanced data structure.ipynb",
      "provenance": [],
      "authorship_tag": "ABX9TyPcgDjIqtkuF5xFc25j2THo",
      "include_colab_link": true
    },
    "kernelspec": {
      "name": "python3",
      "display_name": "Python 3"
    }
  },
  "cells": [
    {
      "cell_type": "markdown",
      "metadata": {
        "id": "view-in-github",
        "colab_type": "text"
      },
      "source": [
        "<a href=\"https://colab.research.google.com/github/tanpharamut/data_viz/blob/main/More_advanced_data_structure.ipynb\" target=\"_parent\"><img src=\"https://colab.research.google.com/assets/colab-badge.svg\" alt=\"Open In Colab\"/></a>"
      ]
    },
    {
      "cell_type": "markdown",
      "metadata": {
        "id": "czfFhA8pmSHe"
      },
      "source": [
        "ที่เรียนไปแล้วมี 1 ตัวคือ list หน้าตาประมาณนี้ ![array.png](data:image/png;base64,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)"
      ]
    },
    {
      "cell_type": "markdown",
      "metadata": {
        "id": "K-d-8YCRneSa"
      },
      "source": [
        "# Dictionary\r\n",
        "  สามารถ index ด้วยอะไรก็ได้ เเต่ ลำดับจะหายไป"
      ]
    },
    {
      "cell_type": "code",
      "metadata": {
        "id": "yp-ad6xKllzE"
      },
      "source": [
        "ex_dict = {'a':10, '1':1, 'stat':5} #curly brackets ในการบอกว่าเป็น dict"
      ],
      "execution_count": null,
      "outputs": []
    },
    {
      "cell_type": "code",
      "metadata": {
        "colab": {
          "base_uri": "https://localhost:8080/"
        },
        "id": "K9bu8RJHo3I2",
        "outputId": "da18f2ed-3e8a-4e2a-8756-97f9ebf9b51b"
      },
      "source": [
        "ex_dict['stat'] #ไม่สามารถใส่ตัวหลังขอตัวกำหนดได้"
      ],
      "execution_count": null,
      "outputs": [
        {
          "output_type": "execute_result",
          "data": {
            "text/plain": [
              "5"
            ]
          },
          "metadata": {
            "tags": []
          },
          "execution_count": 2
        }
      ]
    },
    {
      "cell_type": "code",
      "metadata": {
        "id": "NafrqN7SpMkl"
      },
      "source": [
        "ex2_dict = {1:'one', 2:'two', 3:'three '}"
      ],
      "execution_count": null,
      "outputs": []
    },
    {
      "cell_type": "code",
      "metadata": {
        "colab": {
          "base_uri": "https://localhost:8080/",
          "height": 35
        },
        "id": "ujOBaSVbp5p8",
        "outputId": "32b096ac-16fa-4c81-f587-ea727bff757c"
      },
      "source": [
        "ex2_dict[1]"
      ],
      "execution_count": null,
      "outputs": [
        {
          "output_type": "execute_result",
          "data": {
            "application/vnd.google.colaboratory.intrinsic+json": {
              "type": "string"
            },
            "text/plain": [
              "'one'"
            ]
          },
          "metadata": {
            "tags": []
          },
          "execution_count": 4
        }
      ]
    },
    {
      "cell_type": "markdown",
      "metadata": {
        "id": "DqZW7fdJqXtX"
      },
      "source": [
        "# การเพิ่มสมาชิกใน dict"
      ]
    },
    {
      "cell_type": "code",
      "metadata": {
        "id": "eQT08-fjp-eT"
      },
      "source": [
        "ex2_dict[0] = 'zero'"
      ],
      "execution_count": null,
      "outputs": []
    },
    {
      "cell_type": "code",
      "metadata": {
        "colab": {
          "base_uri": "https://localhost:8080/"
        },
        "id": "xKRWFx_5qnz1",
        "outputId": "81da9000-130c-473d-bae5-2cf63d367a5a"
      },
      "source": [
        "ex2_dict"
      ],
      "execution_count": null,
      "outputs": [
        {
          "output_type": "execute_result",
          "data": {
            "text/plain": [
              "{0: 'zero', 1: 'one', 2: 'two', 3: 'three '}"
            ]
          },
          "metadata": {
            "tags": []
          },
          "execution_count": 6
        }
      ]
    },
    {
      "cell_type": "markdown",
      "metadata": {
        "id": "A5l8nHNYq1uq"
      },
      "source": [
        "# คำสั่ง .keys ใช้ดู ตัว index ใน dict "
      ]
    },
    {
      "cell_type": "code",
      "metadata": {
        "colab": {
          "base_uri": "https://localhost:8080/"
        },
        "id": "A788GRFkqpe7",
        "outputId": "1979040e-6dd0-4567-8920-07369022450d"
      },
      "source": [
        "ex2_dict.keys()"
      ],
      "execution_count": null,
      "outputs": [
        {
          "output_type": "execute_result",
          "data": {
            "text/plain": [
              "dict_keys([1, 2, 3, 0])"
            ]
          },
          "metadata": {
            "tags": []
          },
          "execution_count": 7
        }
      ]
    },
    {
      "cell_type": "code",
      "metadata": {
        "colab": {
          "base_uri": "https://localhost:8080/"
        },
        "id": "T3uQezeQq7NW",
        "outputId": "4fc93528-8206-481d-9b9f-283d2244a854"
      },
      "source": [
        "for index in ex2_dict.keys() :\r\n",
        "      print(index)"
      ],
      "execution_count": null,
      "outputs": [
        {
          "output_type": "stream",
          "text": [
            "1\n",
            "2\n",
            "3\n",
            "0\n"
          ],
          "name": "stdout"
        }
      ]
    },
    {
      "cell_type": "code",
      "metadata": {
        "colab": {
          "base_uri": "https://localhost:8080/"
        },
        "id": "mCpM23nXrK1a",
        "outputId": "5b5b548e-acb5-4bec-cb0c-3c4c5636fa72"
      },
      "source": [
        "ex2_dict.values()"
      ],
      "execution_count": null,
      "outputs": [
        {
          "output_type": "execute_result",
          "data": {
            "text/plain": [
              "dict_values(['one', 'two', 'three ', 'zero'])"
            ]
          },
          "metadata": {
            "tags": []
          },
          "execution_count": 11
        }
      ]
    },
    {
      "cell_type": "code",
      "metadata": {
        "colab": {
          "base_uri": "https://localhost:8080/"
        },
        "id": "xzzQVXPQrZIM",
        "outputId": "be2421d2-c0c0-4220-f70d-e96c5b6a8d6c"
      },
      "source": [
        "index"
      ],
      "execution_count": null,
      "outputs": [
        {
          "output_type": "execute_result",
          "data": {
            "text/plain": [
              "0"
            ]
          },
          "metadata": {
            "tags": []
          },
          "execution_count": 12
        }
      ]
    },
    {
      "cell_type": "markdown",
      "metadata": {
        "id": "KpWUyrPRstKU"
      },
      "source": [
        "# dict เอาไปใช้ร่วมกับ Dataframe ของ pandas"
      ]
    },
    {
      "cell_type": "markdown",
      "metadata": {
        "id": "o5FBmw_btEjT"
      },
      "source": [
        "# Numpy Array (array n มิติ)![20100422132521.gif](data:image/gif;base64,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)"
      ]
    },
    {
      "cell_type": "markdown",
      "metadata": {
        "id": "KL1pHToIt7is"
      },
      "source": [
        "### numpy คือ package ที่ทำงานเกี่ยวกับ array ของตัวเลข (ที่มีคนเขียนขึ้นมาเเละนิยมใช้)\r\n",
        "\r\n",
        "### numpy -> number python"
      ]
    },
    {
      "cell_type": "code",
      "metadata": {
        "id": "IGhSc7LYsr08"
      },
      "source": [
        "import numpy #วิธีเรียกใช้งาน package"
      ],
      "execution_count": null,
      "outputs": []
    },
    {
      "cell_type": "markdown",
      "metadata": {
        "id": "qJda4Jinu-l0"
      },
      "source": [
        "### สร้าง numpy array"
      ]
    },
    {
      "cell_type": "code",
      "metadata": {
        "colab": {
          "base_uri": "https://localhost:8080/"
        },
        "id": "PS_vGPavulXD",
        "outputId": "739ab40b-7d1d-427c-ee84-efeb6cf38719"
      },
      "source": [
        "ex_2d_array = numpy.array([[5.2,3.0,4.5],[9.1,0.1,0.3]])\r\n",
        "print(ex_2d_array)"
      ],
      "execution_count": null,
      "outputs": [
        {
          "output_type": "stream",
          "text": [
            "[[5.2 3.  4.5]\n",
            " [9.1 0.1 0.3]]\n"
          ],
          "name": "stdout"
        }
      ]
    },
    {
      "cell_type": "markdown",
      "metadata": {
        "id": "MbtIWLIivCzO"
      },
      "source": [
        "### การชี้ค่าใน numpy array นับตำแหน่ง ตามลำดับ 0 1 2 3"
      ]
    },
    {
      "cell_type": "code",
      "metadata": {
        "colab": {
          "base_uri": "https://localhost:8080/"
        },
        "id": "MnE9OIfxu6G7",
        "outputId": "8077dfb6-a471-437e-b14a-5d118f013936"
      },
      "source": [
        "ex_2d_array[1,2]"
      ],
      "execution_count": null,
      "outputs": [
        {
          "output_type": "execute_result",
          "data": {
            "text/plain": [
              "0.3"
            ]
          },
          "metadata": {
            "tags": []
          },
          "execution_count": 16
        }
      ]
    },
    {
      "cell_type": "code",
      "metadata": {
        "colab": {
          "base_uri": "https://localhost:8080/"
        },
        "id": "U73OjtZVvltA",
        "outputId": "c9add291-f796-4407-a33b-089023d06fc2"
      },
      "source": [
        "list_x = [[5.2,3.0,4.5],[9.1,0.1,0.3]] # การชี้ list\r\n",
        "list_x"
      ],
      "execution_count": null,
      "outputs": [
        {
          "output_type": "execute_result",
          "data": {
            "text/plain": [
              "[[5.2, 3.0, 4.5], [9.1, 0.1, 0.3]]"
            ]
          },
          "metadata": {
            "tags": []
          },
          "execution_count": 17
        }
      ]
    },
    {
      "cell_type": "code",
      "metadata": {
        "colab": {
          "base_uri": "https://localhost:8080/"
        },
        "id": "tVuv_elowSmV",
        "outputId": "2001dffb-03a2-45ad-ac55-52967d329a68"
      },
      "source": [
        "print(len(list_x))"
      ],
      "execution_count": null,
      "outputs": [
        {
          "output_type": "stream",
          "text": [
            "2\n"
          ],
          "name": "stdout"
        }
      ]
    },
    {
      "cell_type": "code",
      "metadata": {
        "colab": {
          "base_uri": "https://localhost:8080/"
        },
        "id": "6JIVuX9qv1Cd",
        "outputId": "885ca54c-f664-46bf-be6b-6a01a5d776e9"
      },
      "source": [
        "print(list_x[1])\r\n",
        "print(list_x[1][2])"
      ],
      "execution_count": null,
      "outputs": [
        {
          "output_type": "stream",
          "text": [
            "[9.1, 0.1, 0.3]\n",
            "0.3\n"
          ],
          "name": "stdout"
        }
      ]
    },
    {
      "cell_type": "markdown",
      "metadata": {
        "id": "_yaBzW_SyVzq"
      },
      "source": [
        "# Operations"
      ]
    },
    {
      "cell_type": "code",
      "metadata": {
        "colab": {
          "base_uri": "https://localhost:8080/"
        },
        "id": "dXNYFmoJv28a",
        "outputId": "083196d8-2da6-47ed-fc98-7b05906b0dd4"
      },
      "source": [
        "ex2_2d_array = numpy.array([[1,0,0],[0,0,1]])\r\n",
        "print(ex2_2d_array)\r\n",
        "print(ex_2d_array)"
      ],
      "execution_count": null,
      "outputs": [
        {
          "output_type": "stream",
          "text": [
            "[[1 0 0]\n",
            " [0 0 1]]\n",
            "[[5.2 3.  4.5]\n",
            " [9.1 0.1 0.3]]\n"
          ],
          "name": "stdout"
        }
      ]
    },
    {
      "cell_type": "code",
      "metadata": {
        "colab": {
          "base_uri": "https://localhost:8080/"
        },
        "id": "C_2x0vACypzp",
        "outputId": "818b59ac-0b00-4e6d-e8c7-f37a71cf61cc"
      },
      "source": [
        "ex_2d_array.shape #ตรวจสอบขนาดของ matrix"
      ],
      "execution_count": null,
      "outputs": [
        {
          "output_type": "execute_result",
          "data": {
            "text/plain": [
              "(2, 3)"
            ]
          },
          "metadata": {
            "tags": []
          },
          "execution_count": 34
        }
      ]
    },
    {
      "cell_type": "code",
      "metadata": {
        "colab": {
          "base_uri": "https://localhost:8080/"
        },
        "id": "f5I68N1vyum8",
        "outputId": "199917b0-cc43-4d53-b59e-e2ddb8efd1aa"
      },
      "source": [
        "ex_2d_array + ex2_2d_array"
      ],
      "execution_count": null,
      "outputs": [
        {
          "output_type": "execute_result",
          "data": {
            "text/plain": [
              "array([[6.2, 3. , 4.5],\n",
              "       [9.1, 0.1, 1.3]])"
            ]
          },
          "metadata": {
            "tags": []
          },
          "execution_count": 35
        }
      ]
    },
    {
      "cell_type": "code",
      "metadata": {
        "colab": {
          "base_uri": "https://localhost:8080/"
        },
        "id": "kBvLOV0-y1Re",
        "outputId": "a9b76947-225e-49f9-9d19-aaaeba2f2fea"
      },
      "source": [
        "list_x = [[5.2, 3.0, 4.5],\r\n",
        " [9.1, 0.1, 0.3]]\r\n",
        "list_x2 = [[1, 0, 0],\r\n",
        " [0, 0, 1]] \r\n",
        "\r\n",
        "list_x + list_x2"
      ],
      "execution_count": null,
      "outputs": [
        {
          "output_type": "execute_result",
          "data": {
            "text/plain": [
              "[[5.2, 3.0, 4.5], [9.1, 0.1, 0.3], [1, 0, 0], [0, 0, 1]]"
            ]
          },
          "metadata": {
            "tags": []
          },
          "execution_count": 38
        }
      ]
    },
    {
      "cell_type": "code",
      "metadata": {
        "colab": {
          "base_uri": "https://localhost:8080/"
        },
        "id": "9aOLr3URzljs",
        "outputId": "09e78d20-f424-41d3-b35e-3b8a79819b6b"
      },
      "source": [
        "ex_2d_array * ex2_2d_array #การคูณเเบบ array เอาตำแหน่งเดียวกันมาคูณกัน"
      ],
      "execution_count": null,
      "outputs": [
        {
          "output_type": "execute_result",
          "data": {
            "text/plain": [
              "array([[5.2, 0. , 0. ],\n",
              "       [0. , 0. , 0.3]])"
            ]
          },
          "metadata": {
            "tags": []
          },
          "execution_count": 40
        }
      ]
    },
    {
      "cell_type": "markdown",
      "metadata": {
        "id": "YItEb9Bg0_Ad"
      },
      "source": [
        "##matix multiplication (dot product)"
      ]
    },
    {
      "cell_type": "code",
      "metadata": {
        "colab": {
          "base_uri": "https://localhost:8080/",
          "height": 197
        },
        "id": "jegOzkJ7z1pc",
        "outputId": "90b0836f-ef49-4025-8a75-1e5d06ed00dd"
      },
      "source": [
        "numpy.dot(ex_2d_array,ex2_2d_array)"
      ],
      "execution_count": null,
      "outputs": [
        {
          "output_type": "error",
          "ename": "ValueError",
          "evalue": "ignored",
          "traceback": [
            "\u001b[0;31m---------------------------------------------------------------------------\u001b[0m",
            "\u001b[0;31mValueError\u001b[0m                                Traceback (most recent call last)",
            "\u001b[0;32m<ipython-input-42-d923e9f0df4f>\u001b[0m in \u001b[0;36m<module>\u001b[0;34m()\u001b[0m\n\u001b[0;32m----> 1\u001b[0;31m \u001b[0mnumpy\u001b[0m\u001b[0;34m.\u001b[0m\u001b[0mdot\u001b[0m\u001b[0;34m(\u001b[0m\u001b[0mex_2d_array\u001b[0m\u001b[0;34m,\u001b[0m\u001b[0mex2_2d_array\u001b[0m\u001b[0;34m)\u001b[0m\u001b[0;34m\u001b[0m\u001b[0;34m\u001b[0m\u001b[0m\n\u001b[0m",
            "\u001b[0;32m<__array_function__ internals>\u001b[0m in \u001b[0;36mdot\u001b[0;34m(*args, **kwargs)\u001b[0m\n",
            "\u001b[0;31mValueError\u001b[0m: shapes (2,3) and (2,3) not aligned: 3 (dim 1) != 2 (dim 0)"
          ]
        }
      ]
    },
    {
      "cell_type": "code",
      "metadata": {
        "colab": {
          "base_uri": "https://localhost:8080/"
        },
        "id": "-f2ClEWh1WR7",
        "outputId": "66ebb86d-fc49-49dd-d4b7-1ab34b30fdf6"
      },
      "source": [
        "print(ex_2d_array)\r\n",
        "print(ex_2d_array.T)"
      ],
      "execution_count": null,
      "outputs": [
        {
          "output_type": "stream",
          "text": [
            "[[5.2 3.  4.5]\n",
            " [9.1 0.1 0.3]]\n",
            "[[5.2 9.1]\n",
            " [3.  0.1]\n",
            " [4.5 0.3]]\n"
          ],
          "name": "stdout"
        }
      ]
    },
    {
      "cell_type": "code",
      "metadata": {
        "colab": {
          "base_uri": "https://localhost:8080/"
        },
        "id": "3OxGkDoF2DGC",
        "outputId": "49f6004e-ee41-4910-8026-e3b28d6e0f44"
      },
      "source": [
        "dot_mat = numpy.dot(ex_2d_array,ex2_2d_array.T)\r\n",
        "print(dot_mat)"
      ],
      "execution_count": null,
      "outputs": [
        {
          "output_type": "stream",
          "text": [
            "[[5.2 4.5]\n",
            " [9.1 0.3]]\n"
          ],
          "name": "stdout"
        }
      ]
    },
    {
      "cell_type": "code",
      "metadata": {
        "colab": {
          "base_uri": "https://localhost:8080/"
        },
        "id": "HAfSTHE02F-h",
        "outputId": "a77dbe43-75d6-499c-a05d-18fd23d3e57a"
      },
      "source": [
        "numpy.linalg.det(dot_mat)"
      ],
      "execution_count": null,
      "outputs": [
        {
          "output_type": "execute_result",
          "data": {
            "text/plain": [
              "-39.389999999999986"
            ]
          },
          "metadata": {
            "tags": []
          },
          "execution_count": 46
        }
      ]
    },
    {
      "cell_type": "markdown",
      "metadata": {
        "id": "oxvo15O639NG"
      },
      "source": [
        "search google -> stackoverflow หรือ web ของ package สำหรับ operations อื่นๆ"
      ]
    },
    {
      "cell_type": "markdown",
      "metadata": {
        "id": "_ZGC0ua76JFA"
      },
      "source": [
        "### matrix slicing"
      ]
    },
    {
      "cell_type": "code",
      "metadata": {
        "colab": {
          "base_uri": "https://localhost:8080/"
        },
        "id": "xGtqTLgi527T",
        "outputId": "507b3fd7-0cc5-4669-c7e5-9399126c9ceb"
      },
      "source": [
        "print(ex_2d_array)"
      ],
      "execution_count": null,
      "outputs": [
        {
          "output_type": "stream",
          "text": [
            "[[5.2 3.  4.5]\n",
            " [9.1 0.1 0.3]]\n"
          ],
          "name": "stdout"
        }
      ]
    },
    {
      "cell_type": "code",
      "metadata": {
        "colab": {
          "base_uri": "https://localhost:8080/"
        },
        "id": "SioE1HAN55sg",
        "outputId": "f294b68a-fac1-4717-b10c-9c0f8bf99c65"
      },
      "source": [
        "ex_2d_array[1,1:]"
      ],
      "execution_count": null,
      "outputs": [
        {
          "output_type": "execute_result",
          "data": {
            "text/plain": [
              "array([0.1, 0.3])"
            ]
          },
          "metadata": {
            "tags": []
          },
          "execution_count": 48
        }
      ]
    },
    {
      "cell_type": "markdown",
      "metadata": {
        "id": "-6JdANl36Emp"
      },
      "source": [
        "###จบวันที่ 14 Jan 2021"
      ]
    },
    {
      "cell_type": "markdown",
      "metadata": {
        "id": "u5Ugq0Pm4cBm"
      },
      "source": [
        "###HW5 เขียน function คูณ matrix\r\n",
        "###เเล้ว test กับ matrix\r\n",
        "\r\n",
        "###(2,3)*(3,2)\r\n",
        "###(4,4)*(4,1)\r\n",
        "###(2,2)*(2,2)"
      ]
    },
    {
      "cell_type": "code",
      "metadata": {
        "id": "Lo8apZue3K96"
      },
      "source": [
        "import numpy as np"
      ],
      "execution_count": null,
      "outputs": []
    },
    {
      "cell_type": "code",
      "metadata": {
        "id": "TEjpHpbIVTrs",
        "colab": {
          "base_uri": "https://localhost:8080/"
        },
        "outputId": "d1c5354b-e81a-4408-e10f-06c34f835470"
      },
      "source": [
        "M_2x3 = np.array([[1,2,3],[4,5,6]])\r\n",
        "M_2x3"
      ],
      "execution_count": 6,
      "outputs": [
        {
          "output_type": "execute_result",
          "data": {
            "text/plain": [
              "array([[1, 2, 3],\n",
              "       [4, 5, 6]])"
            ]
          },
          "metadata": {
            "tags": []
          },
          "execution_count": 6
        }
      ]
    },
    {
      "cell_type": "code",
      "metadata": {
        "id": "nxS95-DiVoOs",
        "colab": {
          "base_uri": "https://localhost:8080/"
        },
        "outputId": "2b0152b3-0064-4e3a-cee6-6871fddc00be"
      },
      "source": [
        "M_3x2 = np.array([[7,8],[9,1],[2,3]])\r\n",
        "M_3x2"
      ],
      "execution_count": null,
      "outputs": [
        {
          "output_type": "execute_result",
          "data": {
            "text/plain": [
              "array([[7, 8],\n",
              "       [9, 1],\n",
              "       [2, 3]])"
            ]
          },
          "metadata": {
            "tags": []
          },
          "execution_count": 7
        }
      ]
    },
    {
      "cell_type": "code",
      "metadata": {
        "id": "KMDTX7siVzpU",
        "colab": {
          "base_uri": "https://localhost:8080/"
        },
        "outputId": "ef30c5e7-4ec3-4b8c-9a5a-cefd101f3282"
      },
      "source": [
        "M_4x4 = np.array([[4,5,6,7],[8,9,1,2],[3,4,5,6],[7,8,9,1]])\r\n",
        "M_4x4"
      ],
      "execution_count": null,
      "outputs": [
        {
          "output_type": "execute_result",
          "data": {
            "text/plain": [
              "array([[4, 5, 6, 7],\n",
              "       [8, 9, 1, 2],\n",
              "       [3, 4, 5, 6],\n",
              "       [7, 8, 9, 1]])"
            ]
          },
          "metadata": {
            "tags": []
          },
          "execution_count": 8
        }
      ]
    },
    {
      "cell_type": "code",
      "metadata": {
        "id": "RLIBE8BoWIM2",
        "colab": {
          "base_uri": "https://localhost:8080/"
        },
        "outputId": "7a159188-25fc-40c8-aca8-c88d99a8d5f1"
      },
      "source": [
        "M_4x1 = np.array([[1],[2],[3],[4]])\r\n",
        "M_4x1"
      ],
      "execution_count": null,
      "outputs": [
        {
          "output_type": "execute_result",
          "data": {
            "text/plain": [
              "array([[1],\n",
              "       [2],\n",
              "       [3],\n",
              "       [4]])"
            ]
          },
          "metadata": {
            "tags": []
          },
          "execution_count": 9
        }
      ]
    },
    {
      "cell_type": "code",
      "metadata": {
        "id": "qJaZ46t2WffY",
        "colab": {
          "base_uri": "https://localhost:8080/"
        },
        "outputId": "a20ed6e1-e22a-4bf6-e2b6-173dc360e615"
      },
      "source": [
        "M_2x2 = np.array([[5,6],[7,8]])\r\n",
        "M_2x2"
      ],
      "execution_count": null,
      "outputs": [
        {
          "output_type": "execute_result",
          "data": {
            "text/plain": [
              "array([[5, 6],\n",
              "       [7, 8]])"
            ]
          },
          "metadata": {
            "tags": []
          },
          "execution_count": 10
        }
      ]
    },
    {
      "cell_type": "code",
      "metadata": {
        "id": "v2iOGRKDWrOz",
        "colab": {
          "base_uri": "https://localhost:8080/"
        },
        "outputId": "b2c2d018-f5db-41ee-aa97-cd82bf925457"
      },
      "source": [
        "M_2x2V2 = np.array([[9,1],[2,3]])\r\n",
        "M_2x2V2"
      ],
      "execution_count": null,
      "outputs": [
        {
          "output_type": "execute_result",
          "data": {
            "text/plain": [
              "array([[9, 1],\n",
              "       [2, 3]])"
            ]
          },
          "metadata": {
            "tags": []
          },
          "execution_count": 11
        }
      ]
    },
    {
      "cell_type": "markdown",
      "metadata": {
        "id": "hy1LjO1yW5cr"
      },
      "source": [
        "### Function"
      ]
    },
    {
      "cell_type": "code",
      "metadata": {
        "id": "SCeFaJt9W3Kr"
      },
      "source": [
        "def xmatrix(A, B):\r\n",
        "    C = [[0 for row in range(len(B[0]))] for col in range(len(A))]\r\n",
        "    for i in range(len(A)):\r\n",
        "        for j in range(len(B[0])):\r\n",
        "            for k in range(len(B)):\r\n",
        "                C[i][j] += A[i][k]*B[k][j]\r\n",
        "    r = np.matrix(C)\r\n",
        "    return r"
      ],
      "execution_count": null,
      "outputs": []
    },
    {
      "cell_type": "code",
      "metadata": {
        "id": "V6mrzwqJXObQ",
        "colab": {
          "base_uri": "https://localhost:8080/"
        },
        "outputId": "ea588505-e0cb-4097-8474-07623442c757"
      },
      "source": [
        "xmatrix(M_2x3,M_3x2)"
      ],
      "execution_count": null,
      "outputs": [
        {
          "output_type": "execute_result",
          "data": {
            "text/plain": [
              "matrix([[31, 19],\n",
              "        [85, 55]])"
            ]
          },
          "metadata": {
            "tags": []
          },
          "execution_count": 13
        }
      ]
    },
    {
      "cell_type": "code",
      "metadata": {
        "id": "cTWymuaXXU90",
        "colab": {
          "base_uri": "https://localhost:8080/"
        },
        "outputId": "d4c76439-2ad2-498d-f203-812f25b5a1e1"
      },
      "source": [
        "xmatrix(M_4x4,M_4x1)"
      ],
      "execution_count": null,
      "outputs": [
        {
          "output_type": "execute_result",
          "data": {
            "text/plain": [
              "matrix([[60],\n",
              "        [37],\n",
              "        [50],\n",
              "        [54]])"
            ]
          },
          "metadata": {
            "tags": []
          },
          "execution_count": 14
        }
      ]
    },
    {
      "cell_type": "code",
      "metadata": {
        "id": "sjh_bbFpXciP",
        "colab": {
          "base_uri": "https://localhost:8080/"
        },
        "outputId": "f00247c9-50f7-4dfd-8da8-ecd94eb4c8ed"
      },
      "source": [
        "xmatrix(M_2x2,M_2x2V2)"
      ],
      "execution_count": null,
      "outputs": [
        {
          "output_type": "execute_result",
          "data": {
            "text/plain": [
              "matrix([[57, 23],\n",
              "        [79, 31]])"
            ]
          },
          "metadata": {
            "tags": []
          },
          "execution_count": 15
        }
      ]
    },
    {
      "cell_type": "code",
      "metadata": {
        "id": "ne2zOhVwXids",
        "colab": {
          "base_uri": "https://localhost:8080/"
        },
        "outputId": "0255195a-1b2c-4520-ae32-3202db3e9310"
      },
      "source": [
        "np.dot(M_2x2,M_2x2V2)"
      ],
      "execution_count": null,
      "outputs": [
        {
          "output_type": "execute_result",
          "data": {
            "text/plain": [
              "array([[57, 23],\n",
              "       [79, 31]])"
            ]
          },
          "metadata": {
            "tags": []
          },
          "execution_count": 16
        }
      ]
    },
    {
      "cell_type": "markdown",
      "metadata": {
        "id": "tbRdmEC8TJ_Z"
      },
      "source": [
        "###zeros, ones, random"
      ]
    },
    {
      "cell_type": "code",
      "metadata": {
        "id": "fQxVeCxxTKcL"
      },
      "source": [
        "import numpy as np #import numpy แล้วตั้งชื่อเป็น np"
      ],
      "execution_count": 1,
      "outputs": []
    },
    {
      "cell_type": "markdown",
      "metadata": {
        "id": "AD-ytPb4WnkV"
      },
      "source": [
        "### zero"
      ]
    },
    {
      "cell_type": "code",
      "metadata": {
        "id": "N_RrhHSqWl7f",
        "outputId": "200363ad-bd40-4851-df3c-31c650dce630",
        "colab": {
          "base_uri": "https://localhost:8080/"
        }
      },
      "source": [
        "np.zeros(2)"
      ],
      "execution_count": 2,
      "outputs": [
        {
          "output_type": "execute_result",
          "data": {
            "text/plain": [
              "array([0., 0.])"
            ]
          },
          "metadata": {
            "tags": []
          },
          "execution_count": 2
        }
      ]
    },
    {
      "cell_type": "code",
      "metadata": {
        "id": "BhcW8wmvWs0u",
        "outputId": "85dbd5ed-1639-4a70-c553-2ce3277df6eb",
        "colab": {
          "base_uri": "https://localhost:8080/"
        }
      },
      "source": [
        "np.zeros((2,3))"
      ],
      "execution_count": 4,
      "outputs": [
        {
          "output_type": "execute_result",
          "data": {
            "text/plain": [
              "array([[0., 0., 0.],\n",
              "       [0., 0., 0.]])"
            ]
          },
          "metadata": {
            "tags": []
          },
          "execution_count": 4
        }
      ]
    },
    {
      "cell_type": "markdown",
      "metadata": {
        "id": "UK_ep7QTXkVx"
      },
      "source": [
        "###ones"
      ]
    },
    {
      "cell_type": "code",
      "metadata": {
        "id": "yarO14izWw5Q",
        "outputId": "eaf3f9cd-2c3c-4913-b563-d6360c423ee6",
        "colab": {
          "base_uri": "https://localhost:8080/"
        }
      },
      "source": [
        "np.ones((2,3))"
      ],
      "execution_count": 7,
      "outputs": [
        {
          "output_type": "execute_result",
          "data": {
            "text/plain": [
              "array([[1., 1., 1.],\n",
              "       [1., 1., 1.]])"
            ]
          },
          "metadata": {
            "tags": []
          },
          "execution_count": 7
        }
      ]
    },
    {
      "cell_type": "markdown",
      "metadata": {
        "id": "kjdNcWnYZCai"
      },
      "source": [
        "###Matrix Operation (scalar multiplication)"
      ]
    },
    {
      "cell_type": "code",
      "metadata": {
        "id": "wa8L1Yq-XqhP"
      },
      "source": [
        ""
      ],
      "execution_count": null,
      "outputs": []
    },
    {
      "cell_type": "markdown",
      "metadata": {
        "id": "NjBiaGJMdL3B"
      },
      "source": [
        "###Random"
      ]
    },
    {
      "cell_type": "code",
      "metadata": {
        "id": "XaumHOlYdNRG",
        "outputId": "191b0b98-e7c2-421a-eb1d-a7ff77b648b9",
        "colab": {
          "base_uri": "https://localhost:8080/"
        }
      },
      "source": [
        "np.random.rand(3,2) # "
      ],
      "execution_count": 8,
      "outputs": [
        {
          "output_type": "execute_result",
          "data": {
            "text/plain": [
              "array([[0.50480914, 0.10296941],\n",
              "       [0.42646213, 0.29844336],\n",
              "       [0.43879594, 0.35385314]])"
            ]
          },
          "metadata": {
            "tags": []
          },
          "execution_count": 8
        }
      ]
    },
    {
      "cell_type": "code",
      "metadata": {
        "id": "CBhtY2NkdSvs",
        "outputId": "601877ca-a419-4624-8071-a9abfbe56555",
        "colab": {
          "base_uri": "https://localhost:8080/"
        }
      },
      "source": [
        "np.random.randn(3,2)"
      ],
      "execution_count": 9,
      "outputs": [
        {
          "output_type": "execute_result",
          "data": {
            "text/plain": [
              "array([[ 1.68556467,  1.22570341],\n",
              "       [ 1.61143651, -0.16932768],\n",
              "       [ 0.50652441,  0.02183495]])"
            ]
          },
          "metadata": {
            "tags": []
          },
          "execution_count": 9
        }
      ]
    },
    {
      "cell_type": "code",
      "metadata": {
        "id": "hZND-mFPdUxA",
        "outputId": "ad4a79cc-b844-4830-aa4f-81ad695c286b",
        "colab": {
          "base_uri": "https://localhost:8080/",
          "height": 35
        }
      },
      "source": [
        "np.random.choice([1,2,3,'a','b','c'])"
      ],
      "execution_count": 10,
      "outputs": [
        {
          "output_type": "execute_result",
          "data": {
            "application/vnd.google.colaboratory.intrinsic+json": {
              "type": "string"
            },
            "text/plain": [
              "'1'"
            ]
          },
          "metadata": {
            "tags": []
          },
          "execution_count": 10
        }
      ]
    },
    {
      "cell_type": "code",
      "metadata": {
        "id": "lEzvpVSRfuCN",
        "outputId": "2479b738-c097-4713-ea08-f9922f4af93d",
        "colab": {
          "base_uri": "https://localhost:8080/"
        }
      },
      "source": [
        "np.random.choice([1,2,3,28,11,100],size = 2)"
      ],
      "execution_count": 11,
      "outputs": [
        {
          "output_type": "execute_result",
          "data": {
            "text/plain": [
              "array([100,   2])"
            ]
          },
          "metadata": {
            "tags": []
          },
          "execution_count": 11
        }
      ]
    },
    {
      "cell_type": "code",
      "metadata": {
        "id": "x9iMslmff51R",
        "outputId": "dbef11f8-9db6-404a-b17c-3c6dae207520",
        "colab": {
          "base_uri": "https://localhost:8080/"
        }
      },
      "source": [
        "np.random.choice([1,2,3,28,11,100],size = (2,3))"
      ],
      "execution_count": 12,
      "outputs": [
        {
          "output_type": "execute_result",
          "data": {
            "text/plain": [
              "array([[ 2, 28, 11],\n",
              "       [11,  3,  2]])"
            ]
          },
          "metadata": {
            "tags": []
          },
          "execution_count": 12
        }
      ]
    },
    {
      "cell_type": "code",
      "metadata": {
        "id": "cGZXgwOYf9jZ",
        "outputId": "255f9d5e-2f84-4bf8-ba89-61ae5100b2e6",
        "colab": {
          "base_uri": "https://localhost:8080/"
        }
      },
      "source": [
        "np.random.choice([1,2,3,28,11,100],size = (2,3), replace=False)"
      ],
      "execution_count": 13,
      "outputs": [
        {
          "output_type": "execute_result",
          "data": {
            "text/plain": [
              "array([[ 28,   1,  11],\n",
              "       [  2, 100,   3]])"
            ]
          },
          "metadata": {
            "tags": []
          },
          "execution_count": 13
        }
      ]
    },
    {
      "cell_type": "code",
      "metadata": {
        "id": "NISi0RE5gDLf",
        "outputId": "123eb6f5-a584-4ff3-a320-504abd06c8b3",
        "colab": {
          "base_uri": "https://localhost:8080/"
        }
      },
      "source": [
        "np.random.choice(['A','B','C','D','F'],size = 35 , p = [0.1,0.2,0.4,0.29,0.01])"
      ],
      "execution_count": 14,
      "outputs": [
        {
          "output_type": "execute_result",
          "data": {
            "text/plain": [
              "array(['C', 'C', 'C', 'B', 'D', 'C', 'D', 'A', 'C', 'B', 'D', 'A', 'B',\n",
              "       'C', 'A', 'B', 'C', 'C', 'C', 'C', 'C', 'D', 'B', 'D', 'D', 'B',\n",
              "       'C', 'B', 'D', 'D', 'B', 'A', 'C', 'C', 'D'], dtype='<U1')"
            ]
          },
          "metadata": {
            "tags": []
          },
          "execution_count": 14
        }
      ]
    },
    {
      "cell_type": "markdown",
      "metadata": {
        "id": "QQe1JB_wg3vR"
      },
      "source": [
        "## เฉลย HW5 Matrix Multiplication"
      ]
    },
    {
      "cell_type": "code",
      "metadata": {
        "id": "j3Ea21VZgSdl"
      },
      "source": [
        "def mat_mul(A,B) :\r\n",
        "      C = np.zeros((A.shape[0],B.shape[1]))#เตรียมขนาดของ matrix ผลลัพธ์\r\n",
        "      for r_a in range(A.shape[0]):\r\n",
        "            for c_b in range(B.shape[1]):\r\n",
        "                  for every_element in range(A.shape[1]):\r\n",
        "                        C[r_a,c_b] = C[r_a,c_b] + (A[r_a,every_element] * B[every_element,c_b])\r\n",
        "      return C"
      ],
      "execution_count": 25,
      "outputs": []
    },
    {
      "cell_type": "code",
      "metadata": {
        "id": "KSmdtisyibda"
      },
      "source": [
        "mat1 = np.array([[1,2,3],[4,5,6]])\r\n",
        "mat2 = np.array([[7,8],[9,10],[11,12]])"
      ],
      "execution_count": 26,
      "outputs": []
    },
    {
      "cell_type": "code",
      "metadata": {
        "id": "uTxMUoS7inJH",
        "outputId": "f44e5719-fa8d-4cc7-adda-b593b8a88ad8",
        "colab": {
          "base_uri": "https://localhost:8080/"
        }
      },
      "source": [
        "mat_mul(mat1,mat2)"
      ],
      "execution_count": 27,
      "outputs": [
        {
          "output_type": "execute_result",
          "data": {
            "text/plain": [
              "array([[ 58.,  64.],\n",
              "       [139., 154.]])"
            ]
          },
          "metadata": {
            "tags": []
          },
          "execution_count": 27
        }
      ]
    },
    {
      "cell_type": "code",
      "metadata": {
        "id": "Gknz7Vuhip-d"
      },
      "source": [
        ""
      ],
      "execution_count": null,
      "outputs": []
    }
  ]
}