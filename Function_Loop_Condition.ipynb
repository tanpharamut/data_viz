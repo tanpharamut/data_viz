{
  "nbformat": 4,
  "nbformat_minor": 0,
  "metadata": {
    "colab": {
      "name": " Function_Loop_Condition.ipynb",
      "provenance": [],
      "authorship_tag": "ABX9TyOVy3avhCx0TJ0sOVSqiqZp",
      "include_colab_link": true
    },
    "kernelspec": {
      "name": "python3",
      "display_name": "Python 3"
    }
  },
  "cells": [
    {
      "cell_type": "markdown",
      "metadata": {
        "id": "view-in-github",
        "colab_type": "text"
      },
      "source": [
        "<a href=\"https://colab.research.google.com/github/tanpharamut/data_viz/blob/main/Function_Loop_Condition.ipynb\" target=\"_parent\"><img src=\"https://colab.research.google.com/assets/colab-badge.svg\" alt=\"Open In Colab\"/></a>"
      ]
    },
    {
      "cell_type": "code",
      "metadata": {
        "colab": {
          "base_uri": "https://localhost:8080/"
        },
        "id": "in4MdxFLfhVT",
        "outputId": "9d4c2065-d67f-4f22-fb68-33bdd3df7818"
      },
      "source": [
        "name = 'ปรมัตถ'\r\n",
        "surname = 'มากเจริญ'\r\n",
        "ID = '613021016-5'\r\n",
        "\r\n",
        "b = f'ชื่อ {name} นามสกุล {surname} รหัส {ID}'\r\n",
        "print(b)"
      ],
      "execution_count": 3,
      "outputs": [
        {
          "output_type": "stream",
          "text": [
            "ชื่อ ปรมัตถ นามสกุล มากเจริญ รหัส 613021016-5\n"
          ],
          "name": "stdout"
        }
      ]
    },
    {
      "cell_type": "markdown",
      "metadata": {
        "id": "ffjw2shegTEK"
      },
      "source": [
        "###Function"
      ]
    },
    {
      "cell_type": "markdown",
      "metadata": {
        "id": "3nENCAmIgqJU"
      },
      "source": [
        "###Fuction template\r\n",
        "#### ทำหน้าที่รับ input มาประมวณผลออกมาเป็น output\r\n",
        "#### f(x) = y"
      ]
    },
    {
      "cell_type": "markdown",
      "metadata": {
        "id": "Xudsofyvg7mp"
      },
      "source": [
        "### def คือการสร้างฟังก์ชัน"
      ]
    },
    {
      "cell_type": "code",
      "metadata": {
        "id": "6yvmiuTegIIr"
      },
      "source": [
        "#``` \r\n",
        "#        def function_name(_Iunput_) :\r\n",
        "#              do_somting with _Iunput_ to get _output_\r\n",
        "#              return _output_\r\n",
        "#```\r\n",
        "\r\n",
        "#backtick (`) ==> กด alt + 9>6\r\n",
        "\r\n",
        "#tilde (~)\r\n",
        "\r\n",
        "#curly bracket ({ })\r\n",
        "\r\n",
        "#square bracket ([ ])\r\n"
      ],
      "execution_count": 11,
      "outputs": []
    },
    {
      "cell_type": "markdown",
      "metadata": {
        "id": "aTat-PyrmX8m"
      },
      "source": [
        "### fuction มีส่วนสำคัญทั้งหมด 4 ส่วน\r\n",
        "\r\n",
        "1.  บอก python ว่าเราจะเขียนฟังก์ชัน ชื่ออะไร ```def function_name():```(ขาดไม่ได้)\r\n",
        "2.  กำหนดตัวแปรที่จะเป็น ``` _Input_``` (ขาดได้)\r\n",
        "3. ส่วนประมวณผล ``` do_somting with _Iunput_ to get _output_ ```(ขาดไม่ได้)\r\n",
        "4. ส่วนเอา output ``` reture _Output_``` (ขาดได้)"
      ]
    },
    {
      "cell_type": "markdown",
      "metadata": {
        "id": "ulmwfXhYkKE_"
      },
      "source": [
        "### ตัวอย่างการเขียน Fuction"
      ]
    },
    {
      "cell_type": "code",
      "metadata": {
        "id": "dlX00rpwhiUO"
      },
      "source": [
        "def print_name(ID,name,surname):\r\n",
        "      st = f'ชื่อ {name} นามสกุล {surname} รหัส {ID}'\r\n",
        "      return st"
      ],
      "execution_count": 13,
      "outputs": []
    },
    {
      "cell_type": "code",
      "metadata": {
        "colab": {
          "base_uri": "https://localhost:8080/",
          "height": 35
        },
        "id": "Vy6WEjgUkkuz",
        "outputId": "45a84818-215d-4874-c53c-50c22fc8b7d1"
      },
      "source": [
        "print_name('613021016-5','pharamut','makjaroen')"
      ],
      "execution_count": 14,
      "outputs": [
        {
          "output_type": "execute_result",
          "data": {
            "application/vnd.google.colaboratory.intrinsic+json": {
              "type": "string"
            },
            "text/plain": [
              "'ชื่อ pharamut นามสกุล makjaroen รหัส 613021016-5'"
            ]
          },
          "metadata": {
            "tags": []
          },
          "execution_count": 14
        }
      ]
    },
    {
      "cell_type": "code",
      "metadata": {
        "colab": {
          "base_uri": "https://localhost:8080/"
        },
        "id": "_NcxK9r-lKxg",
        "outputId": "60880479-cb85-446f-9eb6-5c77628229a8"
      },
      "source": [
        "print(print_name(ID = '603021855-5',name = 'กาญจนา', surname = 'ประสาคุณ'))"
      ],
      "execution_count": 16,
      "outputs": [
        {
          "output_type": "stream",
          "text": [
            "ชื่อ กาญจนา นามสกุล ประสาคุณ รหัส 603021855-5\n"
          ],
          "name": "stdout"
        }
      ]
    },
    {
      "cell_type": "markdown",
      "metadata": {
        "id": "ABJ06z5epm1B"
      },
      "source": [
        "### เราใช้ เว้นวรรค (indent) เพื่อบอกขอบเขตของโปรแกรม"
      ]
    },
    {
      "cell_type": "markdown",
      "metadata": {
        "id": "EYHeZRLJp4Pr"
      },
      "source": [
        "### ฟังก์ชันไม่จำเป็นต้องมี Output"
      ]
    },
    {
      "cell_type": "code",
      "metadata": {
        "id": "U55p2CIKpII7"
      },
      "source": [
        "def print_name2(ID,name,surname):\r\n",
        "      st = f'ชื่อ {name} นามสกุล {surname} รหัส {ID}'\r\n",
        "      print(st)"
      ],
      "execution_count": 17,
      "outputs": []
    },
    {
      "cell_type": "markdown",
      "metadata": {
        "id": "3qprrWkFlqWm"
      },
      "source": [
        "### เราสามารถเพิ่มคำสั่งเข้าไปในฟังก์ชันอีกได้ โดยการเปลี่ยน คำสั่ง return เป็น print("
      ]
    },
    {
      "cell_type": "code",
      "metadata": {
        "colab": {
          "base_uri": "https://localhost:8080/"
        },
        "id": "bSKWQb6jldA9",
        "outputId": "840bbf24-f283-49ac-f43b-c4c5e439b9f6"
      },
      "source": [
        "print_name2(ID = '603021855-5',name = 'กาญจนา', surname = 'ประสาคุณ')"
      ],
      "execution_count": 18,
      "outputs": [
        {
          "output_type": "stream",
          "text": [
            "ชื่อ กาญจนา นามสกุล ประสาคุณ รหัส 603021855-5\n"
          ],
          "name": "stdout"
        }
      ]
    },
    {
      "cell_type": "markdown",
      "metadata": {
        "id": "ZQMOCTWCqTS0"
      },
      "source": [
        "###ฟังก์ชันไม่จำเป็นต้องมี Input"
      ]
    },
    {
      "cell_type": "code",
      "metadata": {
        "id": "Ikp3qzCxqR0N"
      },
      "source": [
        "def Pi():\r\n",
        "      return 3.1415925359"
      ],
      "execution_count": 19,
      "outputs": []
    },
    {
      "cell_type": "code",
      "metadata": {
        "colab": {
          "base_uri": "https://localhost:8080/"
        },
        "id": "MKjMKfn-qsRK",
        "outputId": "ffbc8f24-5635-4af4-8ecb-3d958c754f2d"
      },
      "source": [
        "Pi()*(2**2) # หาพื้นที่ของวงกลมที่รัศมีเท่ากับ Pi * r^2"
      ],
      "execution_count": 21,
      "outputs": [
        {
          "output_type": "execute_result",
          "data": {
            "text/plain": [
              "12.5663701436"
            ]
          },
          "metadata": {
            "tags": []
          },
          "execution_count": 21
        }
      ]
    },
    {
      "cell_type": "markdown",
      "metadata": {
        "id": "6tx58EpcrgYh"
      },
      "source": [
        "เราสามารถกำหนดค่า defauit ให้กับฟังก์ชันได้"
      ]
    },
    {
      "cell_type": "code",
      "metadata": {
        "id": "CBpk-_e6qwR8"
      },
      "source": [
        "def print_default(name,surname,ID,grade='F') :\r\n",
        "      st = f'ชื่อ {name} นามสกุล {surname} รหัส {ID}'\r\n",
        "      print (st)\r\n",
        "      st2 = f'เกรดวิชา Data Viz >>> {grade}'\r\n",
        "      print (st2)"
      ],
      "execution_count": 23,
      "outputs": []
    },
    {
      "cell_type": "code",
      "metadata": {
        "colab": {
          "base_uri": "https://localhost:8080/"
        },
        "id": "9NYtJmIgsYv8",
        "outputId": "cf4c5009-fc22-4105-898c-9e2bb447aad3"
      },
      "source": [
        "print_default('ปรมัตถ์','มากเจริญ','613021016-5')"
      ],
      "execution_count": 24,
      "outputs": [
        {
          "output_type": "stream",
          "text": [
            "ชื่อ ปรมัตถ์ นามสกุล มากเจริญ รหัส 613021016-5\n",
            "เกรดวิชา Data Viz >>> F\n"
          ],
          "name": "stdout"
        }
      ]
    },
    {
      "cell_type": "code",
      "metadata": {
        "colab": {
          "base_uri": "https://localhost:8080/"
        },
        "id": "rjxcLHheskbo",
        "outputId": "a45092c7-2dac-44ae-fc7e-8d9193ef66bf"
      },
      "source": [
        "print_default('ปรมัตถ์','มากเจริญ','613021016-5','A')"
      ],
      "execution_count": 25,
      "outputs": [
        {
          "output_type": "stream",
          "text": [
            "ชื่อ ปรมัตถ์ นามสกุล มากเจริญ รหัส 613021016-5\n",
            "เกรดวิชา Data Viz >>> A\n"
          ],
          "name": "stdout"
        }
      ]
    },
    {
      "cell_type": "markdown",
      "metadata": {
        "id": "NpDJkj2k0cK3"
      },
      "source": [
        "# LOOP การวนซ้ำ\r\n"
      ]
    },
    {
      "cell_type": "code",
      "metadata": {
        "colab": {
          "base_uri": "https://localhost:8080/"
        },
        "id": "NsgvryFxtHi-",
        "outputId": "4ba36878-fa2b-47e2-f5b4-5d31aac4780c"
      },
      "source": [
        "for i in [1,2,3] :\r\n",
        "      o = i**2\r\n",
        "      print (f'this member = {i} after process = {o}')    "
      ],
      "execution_count": 27,
      "outputs": [
        {
          "output_type": "stream",
          "text": [
            "this member = 1 after process = 1\n",
            "this member = 2 after process = 4\n",
            "this member = 3 after process = 9\n"
          ],
          "name": "stdout"
        }
      ]
    },
    {
      "cell_type": "code",
      "metadata": {
        "id": "qGhEM6SM1R-h"
      },
      "source": [
        ""
      ],
      "execution_count": null,
      "outputs": []
    }
  ]
}