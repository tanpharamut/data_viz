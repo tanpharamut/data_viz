{
  "nbformat": 4,
  "nbformat_minor": 0,
  "metadata": {
    "colab": {
      "name": "Quiz5.ipynb",
      "provenance": [],
      "collapsed_sections": [],
      "toc_visible": true,
      "authorship_tag": "ABX9TyN83Y1UDzm85isWam+2FIXZ",
      "include_colab_link": true
    },
    "kernelspec": {
      "name": "python3",
      "display_name": "Python 3"
    },
    "language_info": {
      "name": "python"
    }
  },
  "cells": [
    {
      "cell_type": "markdown",
      "metadata": {
        "id": "view-in-github",
        "colab_type": "text"
      },
      "source": [
        "<a href=\"https://colab.research.google.com/github/tanpharamut/data_viz/blob/main/Quiz5(2).ipynb\" target=\"_parent\"><img src=\"https://colab.research.google.com/assets/colab-badge.svg\" alt=\"Open In Colab\"/></a>"
      ]
    },
    {
      "cell_type": "code",
      "metadata": {
        "id": "Z96Doc6jzFD2"
      },
      "source": [
        "import pandas as pd\n",
        "import os\n",
        "from datetime import datetime as dt\n",
        "from datetime import time"
      ],
      "execution_count": 1,
      "outputs": []
    },
    {
      "cell_type": "code",
      "metadata": {
        "colab": {
          "base_uri": "https://localhost:8080/"
        },
        "id": "hrYZipeZ1p_C",
        "outputId": "b37f4120-084c-4e36-9489-2f650fb62d52"
      },
      "source": [
        "from google.colab import drive\n",
        "drive.mount('/content/drive')"
      ],
      "execution_count": 2,
      "outputs": [
        {
          "output_type": "stream",
          "text": [
            "Mounted at /content/drive\n"
          ],
          "name": "stdout"
        }
      ]
    },
    {
      "cell_type": "code",
      "metadata": {
        "id": "C5sylQ_r7Cdq"
      },
      "source": [
        "path = '/content/drive/My Drive/data_viz'"
      ],
      "execution_count": 5,
      "outputs": []
    },
    {
      "cell_type": "code",
      "metadata": {
        "colab": {
          "base_uri": "https://localhost:8080/",
          "height": 530
        },
        "id": "414eEMI74LCQ",
        "outputId": "ccbf7922-58ac-4d68-fdf6-3e81d4571f32"
      },
      "source": [
        "data = pd.read_csv(os.path.join(path,'search_request.csv'))\n",
        "data.head()"
      ],
      "execution_count": 8,
      "outputs": [
        {
          "output_type": "stream",
          "text": [
            "/usr/local/lib/python3.7/dist-packages/IPython/core/interactiveshell.py:2718: DtypeWarning: Columns (7,8,9) have mixed types.Specify dtype option on import or set low_memory=False.\n",
            "  interactivity=interactivity, compiler=compiler, result=result)\n"
          ],
          "name": "stderr"
        },
        {
          "output_type": "execute_result",
          "data": {
            "text/html": [
              "<div>\n",
              "<style scoped>\n",
              "    .dataframe tbody tr th:only-of-type {\n",
              "        vertical-align: middle;\n",
              "    }\n",
              "\n",
              "    .dataframe tbody tr th {\n",
              "        vertical-align: top;\n",
              "    }\n",
              "\n",
              "    .dataframe thead th {\n",
              "        text-align: right;\n",
              "    }\n",
              "</style>\n",
              "<table border=\"1\" class=\"dataframe\">\n",
              "  <thead>\n",
              "    <tr style=\"text-align: right;\">\n",
              "      <th></th>\n",
              "      <th>Unnamed: 0</th>\n",
              "      <th>search_id</th>\n",
              "      <th>search_timestamp</th>\n",
              "      <th>user_agent</th>\n",
              "      <th>q</th>\n",
              "      <th>user_id</th>\n",
              "      <th>session_id</th>\n",
              "      <th>number_of_result</th>\n",
              "      <th>lat</th>\n",
              "      <th>long</th>\n",
              "    </tr>\n",
              "  </thead>\n",
              "  <tbody>\n",
              "    <tr>\n",
              "      <th>0</th>\n",
              "      <td>0</td>\n",
              "      <td>683de889-f923-494e-9d46-44a3d67b7259</td>\n",
              "      <td>2018-06-14 12:34:35.449</td>\n",
              "      <td>Wongnai/8.17.3 rv:8.17.3.3921 (iPhone5,4; iOS;...</td>\n",
              "      <td>NaN</td>\n",
              "      <td>NaN</td>\n",
              "      <td>5lqjjikta19d296mo7g2h1k86p</td>\n",
              "      <td>18</td>\n",
              "      <td>12.6347</td>\n",
              "      <td>101.463</td>\n",
              "    </tr>\n",
              "    <tr>\n",
              "      <th>1</th>\n",
              "      <td>1</td>\n",
              "      <td>4a811230-ffa4-4631-a4c8-5d0394137d02</td>\n",
              "      <td>2018-06-14 17:11:19.469</td>\n",
              "      <td>Mozilla/5.0 (iPhone; CPU iPhone OS 11_4 like M...</td>\n",
              "      <td>NaN</td>\n",
              "      <td>NaN</td>\n",
              "      <td>1r3iotmp0o9slom91stdt9vivc</td>\n",
              "      <td>10</td>\n",
              "      <td>14.8009</td>\n",
              "      <td>102.534</td>\n",
              "    </tr>\n",
              "    <tr>\n",
              "      <th>2</th>\n",
              "      <td>2</td>\n",
              "      <td>7ad6ee8e-438e-4bea-9183-74dcef9e358e</td>\n",
              "      <td>2018-06-14 13:22:31.736</td>\n",
              "      <td>Mozilla/5.0 (Linux; Android 7.0; SAMSUNG SM-J7...</td>\n",
              "      <td>NaN</td>\n",
              "      <td>NaN</td>\n",
              "      <td>5ci1eo4v5u9dha4ppgu94ue7p6</td>\n",
              "      <td>8</td>\n",
              "      <td>13.7383</td>\n",
              "      <td>100.371</td>\n",
              "    </tr>\n",
              "    <tr>\n",
              "      <th>3</th>\n",
              "      <td>3</td>\n",
              "      <td>0c17a5f5-fa89-40f4-ae94-a8659268f827</td>\n",
              "      <td>2018-06-02 12:37:27.331</td>\n",
              "      <td>Mozilla/5.0 (Linux; Android 7.1.1; SM-N950F Bu...</td>\n",
              "      <td>NaN</td>\n",
              "      <td>NaN</td>\n",
              "      <td>39n535qgje9kpojp0grhfj8umk</td>\n",
              "      <td>12</td>\n",
              "      <td>12.6669</td>\n",
              "      <td>101.861</td>\n",
              "    </tr>\n",
              "    <tr>\n",
              "      <th>4</th>\n",
              "      <td>4</td>\n",
              "      <td>6870dc3a-5602-44fc-80ed-df0a7783df9d</td>\n",
              "      <td>2018-06-02 11:19:22.404</td>\n",
              "      <td>Mozilla/5.0 (iPhone; CPU iPhone OS 11_3_1 like...</td>\n",
              "      <td>NaN</td>\n",
              "      <td>NaN</td>\n",
              "      <td>5pa03h6lj691to60erver1l8o4</td>\n",
              "      <td>14</td>\n",
              "      <td>12.2372</td>\n",
              "      <td>99.88</td>\n",
              "    </tr>\n",
              "  </tbody>\n",
              "</table>\n",
              "</div>"
            ],
            "text/plain": [
              "   Unnamed: 0                             search_id  ...      lat     long\n",
              "0           0  683de889-f923-494e-9d46-44a3d67b7259  ...  12.6347  101.463\n",
              "1           1  4a811230-ffa4-4631-a4c8-5d0394137d02  ...  14.8009  102.534\n",
              "2           2  7ad6ee8e-438e-4bea-9183-74dcef9e358e  ...  13.7383  100.371\n",
              "3           3  0c17a5f5-fa89-40f4-ae94-a8659268f827  ...  12.6669  101.861\n",
              "4           4  6870dc3a-5602-44fc-80ed-df0a7783df9d  ...  12.2372    99.88\n",
              "\n",
              "[5 rows x 10 columns]"
            ]
          },
          "metadata": {
            "tags": []
          },
          "execution_count": 8
        }
      ]
    },
    {
      "cell_type": "code",
      "metadata": {
        "colab": {
          "base_uri": "https://localhost:8080/"
        },
        "id": "VYhYMnav9sJl",
        "outputId": "2f472f58-644c-4332-e37c-bd973bfc1d4a"
      },
      "source": [
        "data.isnull().any()"
      ],
      "execution_count": 9,
      "outputs": [
        {
          "output_type": "execute_result",
          "data": {
            "text/plain": [
              "Unnamed: 0          False\n",
              "search_id           False\n",
              "search_timestamp    False\n",
              "user_agent          False\n",
              "q                    True\n",
              "user_id              True\n",
              "session_id          False\n",
              "number_of_result    False\n",
              "lat                  True\n",
              "long                 True\n",
              "dtype: bool"
            ]
          },
          "metadata": {
            "tags": []
          },
          "execution_count": 9
        }
      ]
    },
    {
      "cell_type": "code",
      "metadata": {
        "id": "jsn39_gQ8PmN"
      },
      "source": [
        "data['search_timestamp']  = pd.to_datetime(data['search_timestamp'],format='%Y-%m-%d %H:%M:%S',errors='coerce')"
      ],
      "execution_count": 10,
      "outputs": []
    },
    {
      "cell_type": "code",
      "metadata": {
        "id": "FOiP8__F9VJ-",
        "colab": {
          "base_uri": "https://localhost:8080/",
          "height": 949
        },
        "outputId": "bac43561-7d79-445f-81f0-808ab63ed374"
      },
      "source": [
        "data[data['search_timestamp'].dt.dayofweek == 3]"
      ],
      "execution_count": 11,
      "outputs": [
        {
          "output_type": "execute_result",
          "data": {
            "text/html": [
              "<div>\n",
              "<style scoped>\n",
              "    .dataframe tbody tr th:only-of-type {\n",
              "        vertical-align: middle;\n",
              "    }\n",
              "\n",
              "    .dataframe tbody tr th {\n",
              "        vertical-align: top;\n",
              "    }\n",
              "\n",
              "    .dataframe thead th {\n",
              "        text-align: right;\n",
              "    }\n",
              "</style>\n",
              "<table border=\"1\" class=\"dataframe\">\n",
              "  <thead>\n",
              "    <tr style=\"text-align: right;\">\n",
              "      <th></th>\n",
              "      <th>Unnamed: 0</th>\n",
              "      <th>search_id</th>\n",
              "      <th>search_timestamp</th>\n",
              "      <th>user_agent</th>\n",
              "      <th>q</th>\n",
              "      <th>user_id</th>\n",
              "      <th>session_id</th>\n",
              "      <th>number_of_result</th>\n",
              "      <th>lat</th>\n",
              "      <th>long</th>\n",
              "    </tr>\n",
              "  </thead>\n",
              "  <tbody>\n",
              "    <tr>\n",
              "      <th>0</th>\n",
              "      <td>0</td>\n",
              "      <td>683de889-f923-494e-9d46-44a3d67b7259</td>\n",
              "      <td>2018-06-14 12:34:35.449</td>\n",
              "      <td>Wongnai/8.17.3 rv:8.17.3.3921 (iPhone5,4; iOS;...</td>\n",
              "      <td>NaN</td>\n",
              "      <td>NaN</td>\n",
              "      <td>5lqjjikta19d296mo7g2h1k86p</td>\n",
              "      <td>18</td>\n",
              "      <td>12.6347</td>\n",
              "      <td>101.463</td>\n",
              "    </tr>\n",
              "    <tr>\n",
              "      <th>1</th>\n",
              "      <td>1</td>\n",
              "      <td>4a811230-ffa4-4631-a4c8-5d0394137d02</td>\n",
              "      <td>2018-06-14 17:11:19.469</td>\n",
              "      <td>Mozilla/5.0 (iPhone; CPU iPhone OS 11_4 like M...</td>\n",
              "      <td>NaN</td>\n",
              "      <td>NaN</td>\n",
              "      <td>1r3iotmp0o9slom91stdt9vivc</td>\n",
              "      <td>10</td>\n",
              "      <td>14.8009</td>\n",
              "      <td>102.534</td>\n",
              "    </tr>\n",
              "    <tr>\n",
              "      <th>2</th>\n",
              "      <td>2</td>\n",
              "      <td>7ad6ee8e-438e-4bea-9183-74dcef9e358e</td>\n",
              "      <td>2018-06-14 13:22:31.736</td>\n",
              "      <td>Mozilla/5.0 (Linux; Android 7.0; SAMSUNG SM-J7...</td>\n",
              "      <td>NaN</td>\n",
              "      <td>NaN</td>\n",
              "      <td>5ci1eo4v5u9dha4ppgu94ue7p6</td>\n",
              "      <td>8</td>\n",
              "      <td>13.7383</td>\n",
              "      <td>100.371</td>\n",
              "    </tr>\n",
              "    <tr>\n",
              "      <th>253</th>\n",
              "      <td>253</td>\n",
              "      <td>5e8ef1b0-6df6-4140-a867-91c8aa1d9c7c</td>\n",
              "      <td>2018-06-07 14:44:39.540</td>\n",
              "      <td>Wongnai/8.17.3 rv:8.17.3.3921 (iPhone10,5; iOS...</td>\n",
              "      <td>NaN</td>\n",
              "      <td>NaN</td>\n",
              "      <td>427c2l8oeg8n4buet1ft9cv8s2</td>\n",
              "      <td>16</td>\n",
              "      <td>12.6087</td>\n",
              "      <td>102.118</td>\n",
              "    </tr>\n",
              "    <tr>\n",
              "      <th>254</th>\n",
              "      <td>254</td>\n",
              "      <td>9acce958-a6e5-4ba0-8a2b-92d453abe495</td>\n",
              "      <td>2018-06-07 13:00:09.445</td>\n",
              "      <td>Wongnai/8.17.3 rv:8.17.3.3921 (iPhone10,6; iOS...</td>\n",
              "      <td>ครัวป้าแดง</td>\n",
              "      <td>55426.0</td>\n",
              "      <td>3ulb1j4uqb9ot8vv48p4ii7393</td>\n",
              "      <td>8</td>\n",
              "      <td>13.7594</td>\n",
              "      <td>100.503</td>\n",
              "    </tr>\n",
              "    <tr>\n",
              "      <th>...</th>\n",
              "      <td>...</td>\n",
              "      <td>...</td>\n",
              "      <td>...</td>\n",
              "      <td>...</td>\n",
              "      <td>...</td>\n",
              "      <td>...</td>\n",
              "      <td>...</td>\n",
              "      <td>...</td>\n",
              "      <td>...</td>\n",
              "      <td>...</td>\n",
              "    </tr>\n",
              "    <tr>\n",
              "      <th>10004269</th>\n",
              "      <td>10005142</td>\n",
              "      <td>9b2250fd-a462-4820-b604-b2d585b9a537</td>\n",
              "      <td>2018-06-28 15:08:56.119</td>\n",
              "      <td>okhttp/3.9.0;WongnaiAndroid 8.16.7.1;HUAWEI;FL...</td>\n",
              "      <td>NaN</td>\n",
              "      <td>85448.0</td>\n",
              "      <td>263hboachf90k8eln2pgp3072o</td>\n",
              "      <td>22</td>\n",
              "      <td>NaN</td>\n",
              "      <td>NaN</td>\n",
              "    </tr>\n",
              "    <tr>\n",
              "      <th>10004270</th>\n",
              "      <td>10005143</td>\n",
              "      <td>6fff09ba-f16a-4510-bd26-97183f9f7bde</td>\n",
              "      <td>2018-06-28 18:31:31.485</td>\n",
              "      <td>okhttp/3.9.0;WongnaiAndroid 8.16.7.1;HUAWEI;FL...</td>\n",
              "      <td>NaN</td>\n",
              "      <td>147494.0</td>\n",
              "      <td>3u2rt9lg1l8okrm78hveqfvq5n</td>\n",
              "      <td>22</td>\n",
              "      <td>NaN</td>\n",
              "      <td>NaN</td>\n",
              "    </tr>\n",
              "    <tr>\n",
              "      <th>10004271</th>\n",
              "      <td>10005144</td>\n",
              "      <td>5cb2fbb7-2a48-400e-8324-04cc7c302a30</td>\n",
              "      <td>2018-06-28 13:57:54.451</td>\n",
              "      <td>okhttp/3.9.0;WongnaiAndroid 8.16.7.1;HUAWEI;FL...</td>\n",
              "      <td>NaN</td>\n",
              "      <td>NaN</td>\n",
              "      <td>6t65kapc958idqqfi7h3csikp7</td>\n",
              "      <td>22</td>\n",
              "      <td>NaN</td>\n",
              "      <td>NaN</td>\n",
              "    </tr>\n",
              "    <tr>\n",
              "      <th>10004284</th>\n",
              "      <td>10005157</td>\n",
              "      <td>94c27eb4-6909-4511-a560-cfd1425a6cbb</td>\n",
              "      <td>2018-06-21 13:18:45.515</td>\n",
              "      <td>okhttp/3.9.0;WongnaiAndroid 8.16.6;HUAWEI;BLL-L22</td>\n",
              "      <td>NaN</td>\n",
              "      <td>126976.0</td>\n",
              "      <td>52c74tssq8u693i4lsq03djno</td>\n",
              "      <td>22</td>\n",
              "      <td>NaN</td>\n",
              "      <td>NaN</td>\n",
              "    </tr>\n",
              "    <tr>\n",
              "      <th>10004285</th>\n",
              "      <td>10005158</td>\n",
              "      <td>26130c30-c529-48bf-8430-a26e28afbcfd</td>\n",
              "      <td>2018-06-21 13:18:14.611</td>\n",
              "      <td>okhttp/3.9.0;WongnaiAndroid 8.16.6;HUAWEI;BLL-L22</td>\n",
              "      <td>NaN</td>\n",
              "      <td>126976.0</td>\n",
              "      <td>52c74tssq8u693i4lsq03djno</td>\n",
              "      <td>22</td>\n",
              "      <td>NaN</td>\n",
              "      <td>NaN</td>\n",
              "    </tr>\n",
              "  </tbody>\n",
              "</table>\n",
              "<p>1087060 rows × 10 columns</p>\n",
              "</div>"
            ],
            "text/plain": [
              "          Unnamed: 0                             search_id  ...      lat     long\n",
              "0                  0  683de889-f923-494e-9d46-44a3d67b7259  ...  12.6347  101.463\n",
              "1                  1  4a811230-ffa4-4631-a4c8-5d0394137d02  ...  14.8009  102.534\n",
              "2                  2  7ad6ee8e-438e-4bea-9183-74dcef9e358e  ...  13.7383  100.371\n",
              "253              253  5e8ef1b0-6df6-4140-a867-91c8aa1d9c7c  ...  12.6087  102.118\n",
              "254              254  9acce958-a6e5-4ba0-8a2b-92d453abe495  ...  13.7594  100.503\n",
              "...              ...                                   ...  ...      ...      ...\n",
              "10004269    10005142  9b2250fd-a462-4820-b604-b2d585b9a537  ...      NaN      NaN\n",
              "10004270    10005143  6fff09ba-f16a-4510-bd26-97183f9f7bde  ...      NaN      NaN\n",
              "10004271    10005144  5cb2fbb7-2a48-400e-8324-04cc7c302a30  ...      NaN      NaN\n",
              "10004284    10005157  94c27eb4-6909-4511-a560-cfd1425a6cbb  ...      NaN      NaN\n",
              "10004285    10005158  26130c30-c529-48bf-8430-a26e28afbcfd  ...      NaN      NaN\n",
              "\n",
              "[1087060 rows x 10 columns]"
            ]
          },
          "metadata": {
            "tags": []
          },
          "execution_count": 11
        }
      ]
    },
    {
      "cell_type": "code",
      "metadata": {
        "colab": {
          "base_uri": "https://localhost:8080/"
        },
        "id": "2uhsME3y-In0",
        "outputId": "fcb97636-6e54-4c10-fb78-db4015aae9b9"
      },
      "source": [
        "One = data[data['search_timestamp'].dt.time < time(hour=12)] \n",
        "One = One[One['search_timestamp'].dt.time >= time(hour=11)]#ดึงข้อมูลคนที่ค้นหาในช่วง 11 โมงขึ้นไป จนถึง เที่ยง\n",
        "One = One.iloc[:,2].count()\n",
        "One"
      ],
      "execution_count": 25,
      "outputs": [
        {
          "output_type": "execute_result",
          "data": {
            "text/plain": [
              "738397"
            ]
          },
          "metadata": {
            "tags": []
          },
          "execution_count": 25
        }
      ]
    },
    {
      "cell_type": "code",
      "metadata": {
        "colab": {
          "base_uri": "https://localhost:8080/"
        },
        "id": "leoO9uZt4G0F",
        "outputId": "a0bb2d06-44a1-4159-fcf8-11ab717804a4"
      },
      "source": [
        "Two = data[data['search_timestamp'].dt.time >= time(hour=23)]#ดึงข้อมูลคนที่ค้นหาในช่วง 5 ทุ่มขึ้นไป\n",
        "Two = Two.iloc[:,2].count()\n",
        "Two"
      ],
      "execution_count": 27,
      "outputs": [
        {
          "output_type": "execute_result",
          "data": {
            "text/plain": [
              "278510"
            ]
          },
          "metadata": {
            "tags": []
          },
          "execution_count": 27
        }
      ]
    },
    {
      "cell_type": "code",
      "metadata": {
        "colab": {
          "base_uri": "https://localhost:8080/"
        },
        "id": "ind61EBq4NRF",
        "outputId": "2ff8dd4b-ddb5-41a0-893f-d203a6352e76"
      },
      "source": [
        "One > Two # ตรวจสอบว่ามากกว่าจริง"
      ],
      "execution_count": 28,
      "outputs": [
        {
          "output_type": "execute_result",
          "data": {
            "text/plain": [
              "True"
            ]
          },
          "metadata": {
            "tags": []
          },
          "execution_count": 28
        }
      ]
    },
    {
      "cell_type": "code",
      "metadata": {
        "id": "O8yke_8z7QoL"
      },
      "source": [
        "if One > Two:\n",
        "      word = 'มากกว่า'\n",
        "elif One < Two:\n",
        "      word = 'น้อยกว่า'\n",
        "else:\n",
        "      word = 'เท่ากับ'"
      ],
      "execution_count": 30,
      "outputs": []
    },
    {
      "cell_type": "code",
      "metadata": {
        "id": "sMtoVO4GCsvG",
        "colab": {
          "base_uri": "https://localhost:8080/"
        },
        "outputId": "7da1eaf8-d53e-4f91-af20-2a9b34dd75ab"
      },
      "source": [
        "print(f'ช่วงเวลา 11.00 ถึง 12.00น. จะมีจำนวนการค้นหาร้านอาหารเท่ากับ {One} ซึ่ง{word}ช่วงเวลา 23.00 ถึง 0.00น. ที่มีจำนวนการค้นหาร้านอาหารเท่ากับ {Two}  ซึ่งเท่ากับ {abs(One-Two)} ครั้ง')"
      ],
      "execution_count": 31,
      "outputs": [
        {
          "output_type": "stream",
          "text": [
            "ช่วงเวลา 11.00 ถึง 12.00น. จะมีจำนวนการค้นหาร้านอาหารเท่ากับ 738397 ซึ่งมากกว่าช่วงเวลา 23.00 ถึง 0.00น. ที่มีจำนวนการค้นหาร้านอาหารเท่ากับ 278510  ซึ่งเท่ากับ 459887 ครั้ง\n"
          ],
          "name": "stdout"
        }
      ]
    },
    {
      "cell_type": "markdown",
      "metadata": {
        "id": "XjHDZIOi9cxX"
      },
      "source": [
        "ใช้ if inline "
      ]
    },
    {
      "cell_type": "code",
      "metadata": {
        "id": "sZ4T54Su8ddm",
        "outputId": "db07fa65-2cba-4f8d-ad40-df1e32f5c2f5",
        "colab": {
          "base_uri": "https://localhost:8080/"
        }
      },
      "source": [
        "print(f'ช่วงเวลา 11.00 ถึง 12.00น. จะมีจำนวนการค้นหาร้านอาหารเท่ากับ {One} ซึ่ง{\"มากกว่า\" if (One > Two) else \"น้อยกว่า\"}ช่วงเวลา 23.00 ถึง 0.00น. ที่มีจำนวนการค้นหาร้านอาหารเท่ากับ {Two}  ซึ่งเท่ากับ {abs(One-Two)} ครั้ง')"
      ],
      "execution_count": 35,
      "outputs": [
        {
          "output_type": "stream",
          "text": [
            "ช่วงเวลา 11.00 ถึง 12.00น. จะมีจำนวนการค้นหาร้านอาหารเท่ากับ 738397 ซึ่งมากกว่าช่วงเวลา 23.00 ถึง 0.00น. ที่มีจำนวนการค้นหาร้านอาหารเท่ากับ 278510  ซึ่งเท่ากับ 459887 ครั้ง\n"
          ],
          "name": "stdout"
        }
      ]
    },
    {
      "cell_type": "code",
      "metadata": {
        "colab": {
          "base_uri": "https://localhost:8080/"
        },
        "id": "W-rSaNc8xxY3",
        "outputId": "8e2c3b65-06b3-45b4-a1d1-fec9132a5491"
      },
      "source": [
        "#วันจันทร์-พฤหัส\n",
        "day_work = data[data['search_timestamp'].dt.dayofweek <= 3] \n",
        "day_work = day_work.iloc[:,2].count()\n",
        "day_work"
      ],
      "execution_count": 17,
      "outputs": [
        {
          "output_type": "execute_result",
          "data": {
            "text/plain": [
              "4220697"
            ]
          },
          "metadata": {
            "tags": []
          },
          "execution_count": 17
        }
      ]
    },
    {
      "cell_type": "code",
      "metadata": {
        "colab": {
          "base_uri": "https://localhost:8080/"
        },
        "id": "LrTmX7QL4UVi",
        "outputId": "9fd1fba9-4dbc-4ac3-f91d-c32825fd74f0"
      },
      "source": [
        "#ศุกร์-อาทิตย์\n",
        "day_holiday = data[data['search_timestamp'].dt.dayofweek >= 4] \n",
        "day_holiday = day_holiday.iloc[:,2].count()\n",
        "day_holiday"
      ],
      "execution_count": 19,
      "outputs": [
        {
          "output_type": "execute_result",
          "data": {
            "text/plain": [
              "5783659"
            ]
          },
          "metadata": {
            "tags": []
          },
          "execution_count": 19
        }
      ]
    },
    {
      "cell_type": "code",
      "metadata": {
        "colab": {
          "base_uri": "https://localhost:8080/"
        },
        "id": "T_qBJbhSxyrG",
        "outputId": "8868f6fe-10c8-46e1-f68a-408aad27ed2c"
      },
      "source": [
        "day_work > day_holiday"
      ],
      "execution_count": 20,
      "outputs": [
        {
          "output_type": "execute_result",
          "data": {
            "text/plain": [
              "False"
            ]
          },
          "metadata": {
            "tags": []
          },
          "execution_count": 20
        }
      ]
    },
    {
      "cell_type": "code",
      "metadata": {
        "id": "Aa70opmS8JAX"
      },
      "source": [
        "if day_work > day_holiday:\n",
        "      word1 = 'มากกว่า'\n",
        "elif day_work < day_holiday:\n",
        "      word1 = 'น้อยกว่า'\n",
        "else:\n",
        "      word1 = 'เท่ากับ'"
      ],
      "execution_count": 33,
      "outputs": []
    },
    {
      "cell_type": "code",
      "metadata": {
        "colab": {
          "base_uri": "https://localhost:8080/"
        },
        "id": "cbZdIXmLxz2T",
        "outputId": "1127943d-88f8-45c7-936c-07905a5ee031"
      },
      "source": [
        "print(f' ช่วงวันจันทร์-พฤหัสบดี มีจำนวนการค้นหาร้านอาหาร {day_work} ซึ่ง{word1} ช่วงวันศุกร์-อาทิตย์ที่มีจำนวนการค้นหาร้านอาหารเท่ากับ {day_holiday}  ซึ่งน้อยกว่า {abs(day_holiday-day_work)} ครั้ง')"
      ],
      "execution_count": 34,
      "outputs": [
        {
          "output_type": "stream",
          "text": [
            " ช่วงวันจันทร์-พฤหัสบดี มีจำนวนการค้นหาร้านอาหาร 4220697 ซึ่งน้อยกว่า ช่วงวันศุกร์-อาทิตย์ที่มีจำนวนการค้นหาร้านอาหารเท่ากับ 5783659  ซึ่งน้อยกว่า 1562962 ครั้ง\n"
          ],
          "name": "stdout"
        }
      ]
    },
    {
      "cell_type": "code",
      "metadata": {
        "id": "GDnTg91u8UBr"
      },
      "source": [
        ""
      ],
      "execution_count": null,
      "outputs": []
    }
  ]
}