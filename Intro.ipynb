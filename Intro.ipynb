{
  "nbformat": 4,
  "nbformat_minor": 0,
  "metadata": {
    "colab": {
      "name": "Intro.ipynb",
      "provenance": [],
      "authorship_tag": "ABX9TyNsmHcgWJqP2rnpH/xHZ754",
      "include_colab_link": true
    },
    "kernelspec": {
      "name": "python3",
      "display_name": "Python 3"
    }
  },
  "cells": [
    {
      "cell_type": "markdown",
      "metadata": {
        "id": "view-in-github",
        "colab_type": "text"
      },
      "source": [
        "<a href=\"https://colab.research.google.com/github/tanpharamut/data_viz/blob/main/Intro.ipynb\" target=\"_parent\"><img src=\"https://colab.research.google.com/assets/colab-badge.svg\" alt=\"Open In Colab\"/></a>"
      ]
    },
    {
      "cell_type": "markdown",
      "metadata": {
        "id": "hdDDOt68Mb3e"
      },
      "source": [
        "### นาย ปรมัตถ์ มากเจริญ 613021016-5"
      ]
    },
    {
      "cell_type": "markdown",
      "metadata": {
        "id": "5yQRy9qHNKsA"
      },
      "source": [
        "ภาษา Markdown\r\n",
        "# Markdown\r\n",
        "## Markdown"
      ]
    },
    {
      "cell_type": "code",
      "metadata": {
        "colab": {
          "base_uri": "https://localhost:8080/"
        },
        "id": "lvE-XyGdMf5Q",
        "outputId": "e00284cd-55c8-4024-8227-caf16c1e9a9b"
      },
      "source": [
        "print (\"ปรมัตถ์\")"
      ],
      "execution_count": 1,
      "outputs": [
        {
          "output_type": "stream",
          "text": [
            "ปรมัตถ์\n"
          ],
          "name": "stdout"
        }
      ]
    },
    {
      "cell_type": "code",
      "metadata": {
        "id": "3Rq3va52T2SM"
      },
      "source": [
        ""
      ],
      "execution_count": null,
      "outputs": []
    }
  ]
}