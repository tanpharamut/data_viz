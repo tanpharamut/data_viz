{
  "nbformat": 4,
  "nbformat_minor": 0,
  "metadata": {
    "colab": {
      "name": " Function_Loop_Condition.ipynb",
      "provenance": [],
      "authorship_tag": "ABX9TyMXxvpFHOThRsLv0YYsoCvL",
      "include_colab_link": true
    },
    "kernelspec": {
      "name": "python3",
      "display_name": "Python 3"
    }
  },
  "cells": [
    {
      "cell_type": "markdown",
      "metadata": {
        "id": "view-in-github",
        "colab_type": "text"
      },
      "source": [
        "<a href=\"https://colab.research.google.com/github/tanpharamut/data_viz/blob/main/Function_Loop_Condition.ipynb\" target=\"_parent\"><img src=\"https://colab.research.google.com/assets/colab-badge.svg\" alt=\"Open In Colab\"/></a>"
      ]
    },
    {
      "cell_type": "code",
      "metadata": {
        "colab": {
          "base_uri": "https://localhost:8080/"
        },
        "id": "in4MdxFLfhVT",
        "outputId": "9d4c2065-d67f-4f22-fb68-33bdd3df7818"
      },
      "source": [
        "name = 'ปรมัตถ'\r\n",
        "surname = 'มากเจริญ'\r\n",
        "ID = '613021016-5'\r\n",
        "\r\n",
        "b = f'ชื่อ {name} นามสกุล {surname} รหัส {ID}'\r\n",
        "print(b)"
      ],
      "execution_count": null,
      "outputs": [
        {
          "output_type": "stream",
          "text": [
            "ชื่อ ปรมัตถ นามสกุล มากเจริญ รหัส 613021016-5\n"
          ],
          "name": "stdout"
        }
      ]
    },
    {
      "cell_type": "markdown",
      "metadata": {
        "id": "ffjw2shegTEK"
      },
      "source": [
        "###Function"
      ]
    },
    {
      "cell_type": "markdown",
      "metadata": {
        "id": "3nENCAmIgqJU"
      },
      "source": [
        "###Fuction template\r\n",
        "#### ทำหน้าที่รับ input มาประมวณผลออกมาเป็น output\r\n",
        "#### f(x) = y"
      ]
    },
    {
      "cell_type": "markdown",
      "metadata": {
        "id": "Xudsofyvg7mp"
      },
      "source": [
        "### def คือการสร้างฟังก์ชัน"
      ]
    },
    {
      "cell_type": "code",
      "metadata": {
        "id": "6yvmiuTegIIr"
      },
      "source": [
        "#``` \r\n",
        "#        def function_name(_Iunput_) :\r\n",
        "#              do_somting with _Iunput_ to get _output_\r\n",
        "#              return _output_\r\n",
        "#```\r\n",
        "\r\n",
        "#backtick (`) ==> กด alt + 9>6\r\n",
        "\r\n",
        "#tilde (~)\r\n",
        "\r\n",
        "#curly bracket ({ })\r\n",
        "\r\n",
        "#square bracket ([ ])\r\n"
      ],
      "execution_count": null,
      "outputs": []
    },
    {
      "cell_type": "markdown",
      "metadata": {
        "id": "aTat-PyrmX8m"
      },
      "source": [
        "### fuction มีส่วนสำคัญทั้งหมด 4 ส่วน\r\n",
        "\r\n",
        "1.  บอก python ว่าเราจะเขียนฟังก์ชัน ชื่ออะไร ```def function_name():```(ขาดไม่ได้)\r\n",
        "2.  กำหนดตัวแปรที่จะเป็น ``` _Input_``` (ขาดได้)\r\n",
        "3. ส่วนประมวณผล ``` do_somting with _Iunput_ to get _output_ ```(ขาดไม่ได้)\r\n",
        "4. ส่วนเอา output ``` reture _Output_``` (ขาดได้)"
      ]
    },
    {
      "cell_type": "markdown",
      "metadata": {
        "id": "ulmwfXhYkKE_"
      },
      "source": [
        "### ตัวอย่างการเขียน Fuction"
      ]
    },
    {
      "cell_type": "code",
      "metadata": {
        "id": "dlX00rpwhiUO"
      },
      "source": [
        "def print_name(ID,name,surname):\r\n",
        "      st = f'ชื่อ {name} นามสกุล {surname} รหัส {ID}'\r\n",
        "      return st"
      ],
      "execution_count": null,
      "outputs": []
    },
    {
      "cell_type": "code",
      "metadata": {
        "colab": {
          "base_uri": "https://localhost:8080/",
          "height": 35
        },
        "id": "Vy6WEjgUkkuz",
        "outputId": "45a84818-215d-4874-c53c-50c22fc8b7d1"
      },
      "source": [
        "print_name('613021016-5','pharamut','makjaroen')"
      ],
      "execution_count": null,
      "outputs": [
        {
          "output_type": "execute_result",
          "data": {
            "application/vnd.google.colaboratory.intrinsic+json": {
              "type": "string"
            },
            "text/plain": [
              "'ชื่อ pharamut นามสกุล makjaroen รหัส 613021016-5'"
            ]
          },
          "metadata": {
            "tags": []
          },
          "execution_count": 14
        }
      ]
    },
    {
      "cell_type": "code",
      "metadata": {
        "colab": {
          "base_uri": "https://localhost:8080/"
        },
        "id": "_NcxK9r-lKxg",
        "outputId": "60880479-cb85-446f-9eb6-5c77628229a8"
      },
      "source": [
        "print(print_name(ID = '603021855-5',name = 'กาญจนา', surname = 'ประสาคุณ'))"
      ],
      "execution_count": null,
      "outputs": [
        {
          "output_type": "stream",
          "text": [
            "ชื่อ กาญจนา นามสกุล ประสาคุณ รหัส 603021855-5\n"
          ],
          "name": "stdout"
        }
      ]
    },
    {
      "cell_type": "markdown",
      "metadata": {
        "id": "ABJ06z5epm1B"
      },
      "source": [
        "### เราใช้ เว้นวรรค (indent) เพื่อบอกขอบเขตของโปรแกรม"
      ]
    },
    {
      "cell_type": "markdown",
      "metadata": {
        "id": "EYHeZRLJp4Pr"
      },
      "source": [
        "### ฟังก์ชันไม่จำเป็นต้องมี Output"
      ]
    },
    {
      "cell_type": "code",
      "metadata": {
        "id": "U55p2CIKpII7"
      },
      "source": [
        "def print_name2(ID,name,surname):\r\n",
        "      st = f'ชื่อ {name} นามสกุล {surname} รหัส {ID}'\r\n",
        "      print(st)"
      ],
      "execution_count": null,
      "outputs": []
    },
    {
      "cell_type": "markdown",
      "metadata": {
        "id": "3qprrWkFlqWm"
      },
      "source": [
        "### เราสามารถเพิ่มคำสั่งเข้าไปในฟังก์ชันอีกได้ โดยการเปลี่ยน คำสั่ง return เป็น print("
      ]
    },
    {
      "cell_type": "code",
      "metadata": {
        "colab": {
          "base_uri": "https://localhost:8080/"
        },
        "id": "bSKWQb6jldA9",
        "outputId": "840bbf24-f283-49ac-f43b-c4c5e439b9f6"
      },
      "source": [
        "print_name2(ID = '603021855-5',name = 'กาญจนา', surname = 'ประสาคุณ')"
      ],
      "execution_count": null,
      "outputs": [
        {
          "output_type": "stream",
          "text": [
            "ชื่อ กาญจนา นามสกุล ประสาคุณ รหัส 603021855-5\n"
          ],
          "name": "stdout"
        }
      ]
    },
    {
      "cell_type": "markdown",
      "metadata": {
        "id": "ZQMOCTWCqTS0"
      },
      "source": [
        "###ฟังก์ชันไม่จำเป็นต้องมี Input"
      ]
    },
    {
      "cell_type": "code",
      "metadata": {
        "id": "Ikp3qzCxqR0N"
      },
      "source": [
        "def Pi():\r\n",
        "      return 3.1415925359"
      ],
      "execution_count": null,
      "outputs": []
    },
    {
      "cell_type": "code",
      "metadata": {
        "colab": {
          "base_uri": "https://localhost:8080/"
        },
        "id": "MKjMKfn-qsRK",
        "outputId": "ffbc8f24-5635-4af4-8ecb-3d958c754f2d"
      },
      "source": [
        "Pi()*(2**2) # หาพื้นที่ของวงกลมที่รัศมีเท่ากับ Pi * r^2"
      ],
      "execution_count": null,
      "outputs": [
        {
          "output_type": "execute_result",
          "data": {
            "text/plain": [
              "12.5663701436"
            ]
          },
          "metadata": {
            "tags": []
          },
          "execution_count": 21
        }
      ]
    },
    {
      "cell_type": "markdown",
      "metadata": {
        "id": "6tx58EpcrgYh"
      },
      "source": [
        "เราสามารถกำหนดค่า defauit ให้กับฟังก์ชันได้"
      ]
    },
    {
      "cell_type": "code",
      "metadata": {
        "id": "CBpk-_e6qwR8"
      },
      "source": [
        "def print_default(name,surname,ID,grade='F') :\r\n",
        "      st = f'ชื่อ {name} นามสกุล {surname} รหัส {ID}'\r\n",
        "      print (st)\r\n",
        "      st2 = f'เกรดวิชา Data Viz >>> {grade}'\r\n",
        "      print (st2)"
      ],
      "execution_count": null,
      "outputs": []
    },
    {
      "cell_type": "code",
      "metadata": {
        "colab": {
          "base_uri": "https://localhost:8080/"
        },
        "id": "9NYtJmIgsYv8",
        "outputId": "cf4c5009-fc22-4105-898c-9e2bb447aad3"
      },
      "source": [
        "print_default('ปรมัตถ์','มากเจริญ','613021016-5')"
      ],
      "execution_count": null,
      "outputs": [
        {
          "output_type": "stream",
          "text": [
            "ชื่อ ปรมัตถ์ นามสกุล มากเจริญ รหัส 613021016-5\n",
            "เกรดวิชา Data Viz >>> F\n"
          ],
          "name": "stdout"
        }
      ]
    },
    {
      "cell_type": "code",
      "metadata": {
        "colab": {
          "base_uri": "https://localhost:8080/"
        },
        "id": "rjxcLHheskbo",
        "outputId": "a45092c7-2dac-44ae-fc7e-8d9193ef66bf"
      },
      "source": [
        "print_default('ปรมัตถ์','มากเจริญ','613021016-5','A')"
      ],
      "execution_count": null,
      "outputs": [
        {
          "output_type": "stream",
          "text": [
            "ชื่อ ปรมัตถ์ นามสกุล มากเจริญ รหัส 613021016-5\n",
            "เกรดวิชา Data Viz >>> A\n"
          ],
          "name": "stdout"
        }
      ]
    },
    {
      "cell_type": "markdown",
      "metadata": {
        "id": "NpDJkj2k0cK3"
      },
      "source": [
        "# LOOP การวนซ้ำ\r\n"
      ]
    },
    {
      "cell_type": "code",
      "metadata": {
        "colab": {
          "base_uri": "https://localhost:8080/"
        },
        "id": "NsgvryFxtHi-",
        "outputId": "4ba36878-fa2b-47e2-f5b4-5d31aac4780c"
      },
      "source": [
        "for i in [1,2,3] :\r\n",
        "      o = i**2\r\n",
        "      print (f'this member = {i} after process = {o}')    "
      ],
      "execution_count": null,
      "outputs": [
        {
          "output_type": "stream",
          "text": [
            "this member = 1 after process = 1\n",
            "this member = 2 after process = 4\n",
            "this member = 3 after process = 9\n"
          ],
          "name": "stdout"
        }
      ]
    },
    {
      "cell_type": "markdown",
      "metadata": {
        "id": "rZxRRClpWq1V"
      },
      "source": [
        " ### จบวันที่ 7 มกราคม 2564"
      ]
    },
    {
      "cell_type": "code",
      "metadata": {
        "id": "qGhEM6SM1R-h",
        "colab": {
          "base_uri": "https://localhost:8080/"
        },
        "outputId": "5b51e950-1516-403f-f70e-aa2855b031f8"
      },
      "source": [
        "for i in 'Pharamut' :\r\n",
        "    print(f'{i} -> / ' ,end = ' ') #สั่งให้ print แบบ ไม่เว้นบรรทัด"
      ],
      "execution_count": null,
      "outputs": [
        {
          "output_type": "stream",
          "text": [
            "P -> /  h -> /  a -> /  r -> /  a -> /  m -> /  u -> /  t -> /  "
          ],
          "name": "stdout"
        }
      ]
    },
    {
      "cell_type": "code",
      "metadata": {
        "id": "DCvyLWMJXLTa",
        "colab": {
          "base_uri": "https://localhost:8080/"
        },
        "outputId": "64aac066-6df0-4fa7-e1e2-d375798be7c3"
      },
      "source": [
        "for i in 'Pharamut' :\r\n",
        "    print(f'{i} -> / ' ,end = ',') #สั่งให้ print แบบ ไม่เว้นบรรทัด"
      ],
      "execution_count": null,
      "outputs": [
        {
          "output_type": "stream",
          "text": [
            "P -> / ,h -> / ,a -> / ,r -> / ,a -> / ,m -> / ,u -> / ,t -> / ,"
          ],
          "name": "stdout"
        }
      ]
    },
    {
      "cell_type": "markdown",
      "metadata": {
        "id": "Sht61p1xXUJ1"
      },
      "source": [
        "### สร้าง list ตัวเลขแบบอัตโนมมัติ range()"
      ]
    },
    {
      "cell_type": "code",
      "metadata": {
        "id": "izfHNeaRXSqV"
      },
      "source": [
        "range5_output = range(5)"
      ],
      "execution_count": null,
      "outputs": []
    },
    {
      "cell_type": "code",
      "metadata": {
        "id": "sOfi0yYbX7yo",
        "colab": {
          "base_uri": "https://localhost:8080/"
        },
        "outputId": "e83b1fcb-8cd3-4a2f-d1fa-91860b5d546c"
      },
      "source": [
        "print(list(range5_output))"
      ],
      "execution_count": null,
      "outputs": [
        {
          "output_type": "stream",
          "text": [
            "[0, 1, 2, 3, 4]\n"
          ],
          "name": "stdout"
        }
      ]
    },
    {
      "cell_type": "code",
      "metadata": {
        "id": "St9k_5j8YJ7C",
        "colab": {
          "base_uri": "https://localhost:8080/"
        },
        "outputId": "171400de-5b2f-4e32-d93b-8a59d03b01ef"
      },
      "source": [
        "for i in range(100):\r\n",
        "      print('งง' ,end = ' ')\r\n"
      ],
      "execution_count": null,
      "outputs": [
        {
          "output_type": "stream",
          "text": [
            "งง งง งง งง งง งง งง งง งง งง งง งง งง งง งง งง งง งง งง งง งง งง งง งง งง งง งง งง งง งง งง งง งง งง งง งง งง งง งง งง งง งง งง งง งง งง งง งง งง งง งง งง งง งง งง งง งง งง งง งง งง งง งง งง งง งง งง งง งง งง งง งง งง งง งง งง งง งง งง งง งง งง งง งง งง งง งง งง งง งง งง งง งง งง งง งง งง งง งง งง "
          ],
          "name": "stdout"
        }
      ]
    },
    {
      "cell_type": "code",
      "metadata": {
        "id": "BEDXKEzlYi_4",
        "colab": {
          "base_uri": "https://localhost:8080/"
        },
        "outputId": "362b45bb-f023-449f-dd7e-4eba004df8aa"
      },
      "source": [
        "list(range(1,11)) #เริ่มต้นเป็นวงทึบ จนเป็นวงกลมโปร่ง เหมือน list slicing"
      ],
      "execution_count": null,
      "outputs": [
        {
          "output_type": "execute_result",
          "data": {
            "text/plain": [
              "[1, 2, 3, 4, 5, 6, 7, 8, 9, 10]"
            ]
          },
          "metadata": {
            "tags": []
          },
          "execution_count": 8
        }
      ]
    },
    {
      "cell_type": "code",
      "metadata": {
        "id": "M5SRmSOgZQbC",
        "colab": {
          "base_uri": "https://localhost:8080/"
        },
        "outputId": "8a3f4bf1-6e32-4876-f094-76b651bf57f5"
      },
      "source": [
        "list(range(-3,20,4)) # -3เริ่ม 20จบ 4step"
      ],
      "execution_count": null,
      "outputs": [
        {
          "output_type": "execute_result",
          "data": {
            "text/plain": [
              "[-3, 1, 5, 9, 13, 17]"
            ]
          },
          "metadata": {
            "tags": []
          },
          "execution_count": 10
        }
      ]
    },
    {
      "cell_type": "markdown",
      "metadata": {
        "id": "7na0wgkQc96j"
      },
      "source": [
        "Loop in Loop\r\n",
        "สามารถเอา loop ซ้อนกับ loop ได้"
      ]
    },
    {
      "cell_type": "code",
      "metadata": {
        "id": "bCmMckaDciAs",
        "colab": {
          "base_uri": "https://localhost:8080/"
        },
        "outputId": "8af33308-2eb2-4f87-b493-996c8c3ff316"
      },
      "source": [
        "for name1 in range(2,5) : # 5 คือไม่เอา 5 คือ 2ถึง4\r\n",
        "    print(f'now name1 = {name1}')\r\n",
        "    for name2 in range(1,13) :\r\n",
        "        print(name1, 'x',name2, '=' ,name1*name2)\r\n",
        "    print('the liner loop is end')"
      ],
      "execution_count": null,
      "outputs": [
        {
          "output_type": "stream",
          "text": [
            "now name1 = 2\n",
            "2 x 1 = 2\n",
            "2 x 2 = 4\n",
            "2 x 3 = 6\n",
            "2 x 4 = 8\n",
            "2 x 5 = 10\n",
            "2 x 6 = 12\n",
            "2 x 7 = 14\n",
            "2 x 8 = 16\n",
            "2 x 9 = 18\n",
            "2 x 10 = 20\n",
            "2 x 11 = 22\n",
            "2 x 12 = 24\n",
            "the liner loop is end\n",
            "now name1 = 3\n",
            "3 x 1 = 3\n",
            "3 x 2 = 6\n",
            "3 x 3 = 9\n",
            "3 x 4 = 12\n",
            "3 x 5 = 15\n",
            "3 x 6 = 18\n",
            "3 x 7 = 21\n",
            "3 x 8 = 24\n",
            "3 x 9 = 27\n",
            "3 x 10 = 30\n",
            "3 x 11 = 33\n",
            "3 x 12 = 36\n",
            "the liner loop is end\n",
            "now name1 = 4\n",
            "4 x 1 = 4\n",
            "4 x 2 = 8\n",
            "4 x 3 = 12\n",
            "4 x 4 = 16\n",
            "4 x 5 = 20\n",
            "4 x 6 = 24\n",
            "4 x 7 = 28\n",
            "4 x 8 = 32\n",
            "4 x 9 = 36\n",
            "4 x 10 = 40\n",
            "4 x 11 = 44\n",
            "4 x 12 = 48\n",
            "the liner loop is end\n"
          ],
          "name": "stdout"
        }
      ]
    },
    {
      "cell_type": "markdown",
      "metadata": {
        "id": "O_Eigt-YfFTc"
      },
      "source": [
        "###Loop in function"
      ]
    },
    {
      "cell_type": "code",
      "metadata": {
        "id": "-WWpAHTkdoiw"
      },
      "source": [
        "list_friends = ['tan1','tan2','tan3','tan4','tan5','tan6']"
      ],
      "execution_count": null,
      "outputs": []
    },
    {
      "cell_type": "code",
      "metadata": {
        "id": "a2utBTVafeAy"
      },
      "source": [
        "def print_feelings(I,friends,feeling = 'love'):\r\n",
        "      for friend in friends :\r\n",
        "          print(f'{I} {feeling} {friend}')"
      ],
      "execution_count": null,
      "outputs": []
    },
    {
      "cell_type": "code",
      "metadata": {
        "id": "Ol-rU3HKfzZJ",
        "colab": {
          "base_uri": "https://localhost:8080/"
        },
        "outputId": "501d4227-fa00-4703-8322-5333e98e381a"
      },
      "source": [
        "print_feelings('tan',list_friends)"
      ],
      "execution_count": null,
      "outputs": [
        {
          "output_type": "stream",
          "text": [
            "tan love tan1\n",
            "tan love tan2\n",
            "tan love tan3\n",
            "tan love tan4\n",
            "tan love tan5\n",
            "tan love tan6\n"
          ],
          "name": "stdout"
        }
      ]
    },
    {
      "cell_type": "markdown",
      "metadata": {
        "id": "ICIa1gR5j_DN"
      },
      "source": [
        "###conditional is เงื่อนไข"
      ]
    },
    {
      "cell_type": "markdown",
      "metadata": {
        "id": "9UabzfJZkSiX"
      },
      "source": [
        "### Ture / Fasle\r\n",
        "การวนลูบโดยมีเงื่อนไขต่างๆ มาเกี่ยวข้อง โดยมี pattern ดังนี้"
      ]
    },
    {
      "cell_type": "code",
      "metadata": {
        "id": "GkjXG6HYlURY",
        "colab": {
          "base_uri": "https://localhost:8080/"
        },
        "outputId": "b3a919df-d4c4-4356-822a-511d976593ff"
      },
      "source": [
        "print(list_friends)"
      ],
      "execution_count": null,
      "outputs": [
        {
          "output_type": "stream",
          "text": [
            "['tan1', 'tan2', 'tan3', 'tan4', 'tan5', 'tan6']\n"
          ],
          "name": "stdout"
        }
      ]
    },
    {
      "cell_type": "code",
      "metadata": {
        "id": "ceTUJUeFf6ZO",
        "colab": {
          "base_uri": "https://localhost:8080/"
        },
        "outputId": "b4ec1111-c2ac-4254-d3f3-e0fe4085760b"
      },
      "source": [
        "for name1 in list_friends :\r\n",
        "    for name2 in list_friends :\r\n",
        "              print(name1,'love',name2) "
      ],
      "execution_count": null,
      "outputs": [
        {
          "output_type": "stream",
          "text": [
            "tan1 love tan1\n",
            "tan1 love tan2\n",
            "tan1 love tan3\n",
            "tan1 love tan4\n",
            "tan1 love tan5\n",
            "tan1 love tan6\n",
            "tan2 love tan1\n",
            "tan2 love tan2\n",
            "tan2 love tan3\n",
            "tan2 love tan4\n",
            "tan2 love tan5\n",
            "tan2 love tan6\n",
            "tan3 love tan1\n",
            "tan3 love tan2\n",
            "tan3 love tan3\n",
            "tan3 love tan4\n",
            "tan3 love tan5\n",
            "tan3 love tan6\n",
            "tan4 love tan1\n",
            "tan4 love tan2\n",
            "tan4 love tan3\n",
            "tan4 love tan4\n",
            "tan4 love tan5\n",
            "tan4 love tan6\n",
            "tan5 love tan1\n",
            "tan5 love tan2\n",
            "tan5 love tan3\n",
            "tan5 love tan4\n",
            "tan5 love tan5\n",
            "tan5 love tan6\n",
            "tan6 love tan1\n",
            "tan6 love tan2\n",
            "tan6 love tan3\n",
            "tan6 love tan4\n",
            "tan6 love tan5\n",
            "tan6 love tan6\n"
          ],
          "name": "stdout"
        }
      ]
    },
    {
      "cell_type": "code",
      "metadata": {
        "id": "e-rRA2jTlR7h",
        "colab": {
          "base_uri": "https://localhost:8080/"
        },
        "outputId": "241a5549-a9d9-4052-bec1-75e7ff8dcd61"
      },
      "source": [
        "for name1 in list_friends :\r\n",
        "    for name2 in list_friends :\r\n",
        "          if name1 != name2 :#ทำให้ ไม่ print ชื่อที่เหมือนกัน ซ้ำ\r\n",
        "              print(name1,'love',name2) "
      ],
      "execution_count": null,
      "outputs": [
        {
          "output_type": "stream",
          "text": [
            "tan1 love tan2\n",
            "tan1 love tan3\n",
            "tan1 love tan4\n",
            "tan1 love tan5\n",
            "tan1 love tan6\n",
            "tan2 love tan1\n",
            "tan2 love tan3\n",
            "tan2 love tan4\n",
            "tan2 love tan5\n",
            "tan2 love tan6\n",
            "tan3 love tan1\n",
            "tan3 love tan2\n",
            "tan3 love tan4\n",
            "tan3 love tan5\n",
            "tan3 love tan6\n",
            "tan4 love tan1\n",
            "tan4 love tan2\n",
            "tan4 love tan3\n",
            "tan4 love tan5\n",
            "tan4 love tan6\n",
            "tan5 love tan1\n",
            "tan5 love tan2\n",
            "tan5 love tan3\n",
            "tan5 love tan4\n",
            "tan5 love tan6\n",
            "tan6 love tan1\n",
            "tan6 love tan2\n",
            "tan6 love tan3\n",
            "tan6 love tan4\n",
            "tan6 love tan5\n"
          ],
          "name": "stdout"
        }
      ]
    },
    {
      "cell_type": "markdown",
      "metadata": {
        "id": "E5PngP76mDs8"
      },
      "source": [
        "==,!=,>=,<=,<,>"
      ]
    },
    {
      "cell_type": "code",
      "metadata": {
        "id": "yn3NqbZVlr26",
        "colab": {
          "base_uri": "https://localhost:8080/"
        },
        "outputId": "c2da5de4-0abd-4717-e7f5-042e8634c18c"
      },
      "source": [
        "for name1 in list_friends :\r\n",
        "    for name2 in list_friends :\r\n",
        "          if name1 == name2 :\r\n",
        "              'do nothing'\r\n",
        "          else:\r\n",
        "              print(name1,'love',name2) "
      ],
      "execution_count": null,
      "outputs": [
        {
          "output_type": "stream",
          "text": [
            "tan1 love tan2\n",
            "tan1 love tan3\n",
            "tan1 love tan4\n",
            "tan1 love tan5\n",
            "tan1 love tan6\n",
            "tan2 love tan1\n",
            "tan2 love tan3\n",
            "tan2 love tan4\n",
            "tan2 love tan5\n",
            "tan2 love tan6\n",
            "tan3 love tan1\n",
            "tan3 love tan2\n",
            "tan3 love tan4\n",
            "tan3 love tan5\n",
            "tan3 love tan6\n",
            "tan4 love tan1\n",
            "tan4 love tan2\n",
            "tan4 love tan3\n",
            "tan4 love tan5\n",
            "tan4 love tan6\n",
            "tan5 love tan1\n",
            "tan5 love tan2\n",
            "tan5 love tan3\n",
            "tan5 love tan4\n",
            "tan5 love tan6\n",
            "tan6 love tan1\n",
            "tan6 love tan2\n",
            "tan6 love tan3\n",
            "tan6 love tan4\n",
            "tan6 love tan5\n"
          ],
          "name": "stdout"
        }
      ]
    },
    {
      "cell_type": "code",
      "metadata": {
        "id": "yLtrnfO5mYfR",
        "colab": {
          "base_uri": "https://localhost:8080/"
        },
        "outputId": "e5319901-17b1-4905-8106-19d990734863"
      },
      "source": [
        "'tan' == 'tan1'"
      ],
      "execution_count": null,
      "outputs": [
        {
          "output_type": "execute_result",
          "data": {
            "text/plain": [
              "False"
            ]
          },
          "metadata": {
            "tags": []
          },
          "execution_count": 34
        }
      ]
    },
    {
      "cell_type": "code",
      "metadata": {
        "id": "Tvj9oCl-nJ86",
        "colab": {
          "base_uri": "https://localhost:8080/"
        },
        "outputId": "de4bec23-80b2-414c-a879-c59edefa4e76"
      },
      "source": [
        "'tan' != 'tan1'"
      ],
      "execution_count": null,
      "outputs": [
        {
          "output_type": "execute_result",
          "data": {
            "text/plain": [
              "True"
            ]
          },
          "metadata": {
            "tags": []
          },
          "execution_count": 30
        }
      ]
    },
    {
      "cell_type": "code",
      "metadata": {
        "id": "WESCmmapnNVN",
        "colab": {
          "base_uri": "https://localhost:8080/"
        },
        "outputId": "3de37431-792a-4bff-97e2-82b31f808085"
      },
      "source": [
        "if True:\r\n",
        "    print('Yes')"
      ],
      "execution_count": null,
      "outputs": [
        {
          "output_type": "stream",
          "text": [
            "Yes\n"
          ],
          "name": "stdout"
        }
      ]
    },
    {
      "cell_type": "code",
      "metadata": {
        "id": "bT_P4JLinZUi"
      },
      "source": [
        "if False:\r\n",
        "    print('No')"
      ],
      "execution_count": null,
      "outputs": []
    },
    {
      "cell_type": "code",
      "metadata": {
        "id": "uPzTraj4nczM",
        "colab": {
          "base_uri": "https://localhost:8080/"
        },
        "outputId": "adc2f4ac-1a50-4d27-c9c5-6e9e7d1b5920"
      },
      "source": [
        "if False:\r\n",
        "    print('No')\r\n",
        "else :\r\n",
        "    print('Yes')"
      ],
      "execution_count": null,
      "outputs": [
        {
          "output_type": "stream",
          "text": [
            "Yes\n"
          ],
          "name": "stdout"
        }
      ]
    },
    {
      "cell_type": "markdown",
      "metadata": {
        "id": "XPCqL8-nnxyg"
      },
      "source": [
        "###HW\r\n",
        "เขียน function ตัดเกรด โดยที่ input เป็นคะเเนน(0-100), output เป็นเกรด (F-A)\r\n",
        "####วนลูปตัดเกรด input = [1,50,65,90,101,-5,49]\r\n"
      ]
    },
    {
      "cell_type": "code",
      "metadata": {
        "id": "TsteIXkAnrIl"
      },
      "source": [
        "list_g = [1,50,65,90,101,-5,49]"
      ],
      "execution_count": 1,
      "outputs": []
    },
    {
      "cell_type": "code",
      "metadata": {
        "id": "1Ap0pCFA2pXL",
        "outputId": "3bd39499-f824-4835-fab8-de9bc36d27a3",
        "colab": {
          "base_uri": "https://localhost:8080/"
        }
      },
      "source": [
        "for i in list_g :\r\n",
        "      if i >= 80 and i <= 100 :\r\n",
        "        print('A')\r\n",
        "      if i >= 75 and i < 80 :\r\n",
        "        print('B+')  \r\n",
        "      if i >= 70 and i < 75 :\r\n",
        "        print('B')  \r\n",
        "      if i >= 65 and i < 70 :\r\n",
        "        print('C+')  \r\n",
        "      if i >= 60 and i < 65 :\r\n",
        "        print('C')  \r\n",
        "      if i >= 55 and i < 60 :\r\n",
        "        print('D+')  \r\n",
        "      if i >= 50 and i < 55 :\r\n",
        "        print('D')  \r\n",
        "      if i < 50 and i >= 0 :\r\n",
        "        print('F')  "
      ],
      "execution_count": 2,
      "outputs": [
        {
          "output_type": "stream",
          "text": [
            "F\n",
            "D\n",
            "C+\n",
            "A\n",
            "F\n"
          ],
          "name": "stdout"
        }
      ]
    },
    {
      "cell_type": "code",
      "metadata": {
        "id": "q9_dxAn23c-l"
      },
      "source": [
        ""
      ],
      "execution_count": null,
      "outputs": []
    }
  ]
}