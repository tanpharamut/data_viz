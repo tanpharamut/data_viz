{
  "nbformat": 4,
  "nbformat_minor": 0,
  "metadata": {
    "colab": {
      "name": "Python101.ipynb",
      "provenance": [],
      "authorship_tag": "ABX9TyNvJ9SMe5jXRpWSZc9Yg9E3",
      "include_colab_link": true
    },
    "kernelspec": {
      "name": "python3",
      "display_name": "Python 3"
    }
  },
  "cells": [
    {
      "cell_type": "markdown",
      "metadata": {
        "id": "view-in-github",
        "colab_type": "text"
      },
      "source": [
        "<a href=\"https://colab.research.google.com/github/tanpharamut/data_viz/blob/main/Python101.ipynb\" target=\"_parent\"><img src=\"https://colab.research.google.com/assets/colab-badge.svg\" alt=\"Open In Colab\"/></a>"
      ]
    },
    {
      "cell_type": "markdown",
      "metadata": {
        "id": "uRRE1H-6M5B1"
      },
      "source": [
        "###Variables"
      ]
    },
    {
      "cell_type": "code",
      "metadata": {
        "id": "chFXfM64Mvkm"
      },
      "source": [
        "pi = 3.14159265359"
      ],
      "execution_count": null,
      "outputs": []
    },
    {
      "cell_type": "code",
      "metadata": {
        "colab": {
          "base_uri": "https://localhost:8080/"
        },
        "id": "jG1pZpwXO4aP",
        "outputId": "324d3b8c-c58b-43cb-dc1e-73857c24b439"
      },
      "source": [
        "pi"
      ],
      "execution_count": null,
      "outputs": [
        {
          "output_type": "execute_result",
          "data": {
            "text/plain": [
              "3.14159265359"
            ]
          },
          "metadata": {
            "tags": []
          },
          "execution_count": 3
        }
      ]
    },
    {
      "cell_type": "markdown",
      "metadata": {
        "id": "H95mJIo2ON7y"
      },
      "source": [
        "หลักการตั้งชื่อตัวแปรเบื้องต้น\r\n",
        "###1.ตั้งให้สื่อ\r\n",
        "###2.ภาษาอังกฤษ\r\n",
        "###3.ใช้ตัวเลขได้เเต่ห้ามขึ้นต้นด้วยตัวเลข\r\n",
        "###4.ห้ามเว้นวรรค"
      ]
    },
    {
      "cell_type": "markdown",
      "metadata": {
        "id": "xq-Mwz_ZOtar"
      },
      "source": [
        "### int : จำนวนเต็ม"
      ]
    },
    {
      "cell_type": "code",
      "metadata": {
        "id": "L1d_agzUOMym"
      },
      "source": [
        "a = 10"
      ],
      "execution_count": null,
      "outputs": []
    },
    {
      "cell_type": "code",
      "metadata": {
        "colab": {
          "base_uri": "https://localhost:8080/"
        },
        "id": "RidVp9CGO7OP",
        "outputId": "f9db78ba-6c31-4566-b3be-093e40048d63"
      },
      "source": [
        "print(a)"
      ],
      "execution_count": null,
      "outputs": [
        {
          "output_type": "stream",
          "text": [
            "10\n"
          ],
          "name": "stdout"
        }
      ]
    },
    {
      "cell_type": "markdown",
      "metadata": {
        "id": "-CvhjKDGPNVi"
      },
      "source": [
        "###float : จำนวนจริง(ทศนิยม)"
      ]
    },
    {
      "cell_type": "code",
      "metadata": {
        "colab": {
          "base_uri": "https://localhost:8080/"
        },
        "id": "j06EI_HOO8wN",
        "outputId": "2639ab15-ac5e-4a09-d9d6-10dd441d4cae"
      },
      "source": [
        "b = 10\r\n",
        "print(b)"
      ],
      "execution_count": null,
      "outputs": [
        {
          "output_type": "stream",
          "text": [
            "10\n"
          ],
          "name": "stdout"
        }
      ]
    },
    {
      "cell_type": "markdown",
      "metadata": {
        "id": "kTI2BbuRPgAo"
      },
      "source": [
        "###Char : ข้อความหรือตัวอักษร"
      ]
    },
    {
      "cell_type": "markdown",
      "metadata": {
        "id": "J2Fwqut_Psnm"
      },
      "source": [
        "-> # hashtag, sharp ใช้สำหรับคอมเม้น"
      ]
    },
    {
      "cell_type": "code",
      "metadata": {
        "colab": {
          "base_uri": "https://localhost:8080/"
        },
        "id": "dT4hlTysPa99",
        "outputId": "90a1c3ad-f60d-4de8-d42c-7f1b9c91f056"
      },
      "source": [
        "c = 'ปรมัตถ์' #เราจะบอกว่าตัวแปรเป็นตัวอักษรหรือข้อความโดยใช้ sigle quote ' หรือ double quote \" ล้อมรอบ\r\n",
        "print(c)"
      ],
      "execution_count": null,
      "outputs": [
        {
          "output_type": "stream",
          "text": [
            "ปรมัตถ์\n"
          ],
          "name": "stdout"
        }
      ]
    },
    {
      "cell_type": "markdown",
      "metadata": {
        "id": "wXwvM0QZRBC3"
      },
      "source": [
        "ตัวเลขที่เป็น string ไม่สามารถที่จะนำมา + - * / กับตัวเลขได้"
      ]
    },
    {
      "cell_type": "code",
      "metadata": {
        "colab": {
          "base_uri": "https://localhost:8080/"
        },
        "id": "paijs13_QTT0",
        "outputId": "b8e1e483-9b4a-4e51-c46c-f7b0c5b0263f"
      },
      "source": [
        "d = '10'\r\n",
        "print(d)"
      ],
      "execution_count": null,
      "outputs": [
        {
          "output_type": "stream",
          "text": [
            "10\n"
          ],
          "name": "stdout"
        }
      ]
    },
    {
      "cell_type": "code",
      "metadata": {
        "colab": {
          "base_uri": "https://localhost:8080/",
          "height": 163
        },
        "id": "57W0L3gMRqxX",
        "outputId": "0ea3e5e1-98e4-418e-a43e-9598f01365d0"
      },
      "source": [
        "d + 1"
      ],
      "execution_count": null,
      "outputs": [
        {
          "output_type": "error",
          "ename": "TypeError",
          "evalue": "ignored",
          "traceback": [
            "\u001b[0;31m---------------------------------------------------------------------------\u001b[0m",
            "\u001b[0;31mTypeError\u001b[0m                                 Traceback (most recent call last)",
            "\u001b[0;32m<ipython-input-12-2d39be9af043>\u001b[0m in \u001b[0;36m<module>\u001b[0;34m()\u001b[0m\n\u001b[0;32m----> 1\u001b[0;31m \u001b[0md\u001b[0m \u001b[0;34m+\u001b[0m \u001b[0;36m1\u001b[0m\u001b[0;34m\u001b[0m\u001b[0;34m\u001b[0m\u001b[0m\n\u001b[0m",
            "\u001b[0;31mTypeError\u001b[0m: must be str, not int"
          ]
        }
      ]
    },
    {
      "cell_type": "markdown",
      "metadata": {
        "id": "sSfiX5CkRtce"
      },
      "source": [
        "### variable cating (การเปลี่ยนชนิดของข้อมูล)"
      ]
    },
    {
      "cell_type": "code",
      "metadata": {
        "colab": {
          "base_uri": "https://localhost:8080/"
        },
        "id": "OtMj3f74Q1Kz",
        "outputId": "1142c108-7220-471d-cbb2-7dbe52d1e658"
      },
      "source": [
        "int(d) + 1"
      ],
      "execution_count": null,
      "outputs": [
        {
          "output_type": "execute_result",
          "data": {
            "text/plain": [
              "11"
            ]
          },
          "metadata": {
            "tags": []
          },
          "execution_count": 13
        }
      ]
    },
    {
      "cell_type": "code",
      "metadata": {
        "colab": {
          "base_uri": "https://localhost:8080/"
        },
        "id": "9VjmREQnR9BW",
        "outputId": "d24127e0-4a07-4857-ac2a-77c1e4fc90f6"
      },
      "source": [
        "print(a)\r\n",
        "print(float(a))\r\n",
        "print(str(a))"
      ],
      "execution_count": null,
      "outputs": [
        {
          "output_type": "stream",
          "text": [
            "10\n",
            "10.0\n",
            "10\n"
          ],
          "name": "stdout"
        }
      ]
    },
    {
      "cell_type": "markdown",
      "metadata": {
        "id": "icZUXGnqSbJZ"
      },
      "source": [
        "### Operation (Operators+,-,*,/,%) "
      ]
    },
    {
      "cell_type": "code",
      "metadata": {
        "colab": {
          "base_uri": "https://localhost:8080/"
        },
        "id": "PL8OZdbWSX7H",
        "outputId": "8417c4e5-1850-4c5f-cb08-05e5f51d2d22"
      },
      "source": [
        "a+b"
      ],
      "execution_count": null,
      "outputs": [
        {
          "output_type": "execute_result",
          "data": {
            "text/plain": [
              "20"
            ]
          },
          "metadata": {
            "tags": []
          },
          "execution_count": 17
        }
      ]
    },
    {
      "cell_type": "code",
      "metadata": {
        "colab": {
          "base_uri": "https://localhost:8080/"
        },
        "id": "_i_ehk33Srls",
        "outputId": "f4d0744a-dbcc-475a-aa2b-0cde11488cd5"
      },
      "source": [
        "ab = a+b\r\n",
        "print(ab)"
      ],
      "execution_count": null,
      "outputs": [
        {
          "output_type": "stream",
          "text": [
            "20\n"
          ],
          "name": "stdout"
        }
      ]
    },
    {
      "cell_type": "markdown",
      "metadata": {
        "id": "IRu4jsC6TB-U"
      },
      "source": [
        "% คือเครื่องหมาย modulo"
      ]
    },
    {
      "cell_type": "code",
      "metadata": {
        "colab": {
          "base_uri": "https://localhost:8080/"
        },
        "id": "VAF4zBddSvwd",
        "outputId": "47087efc-4b03-4aa4-9620-d42b0837631f"
      },
      "source": [
        "5%3"
      ],
      "execution_count": null,
      "outputs": [
        {
          "output_type": "execute_result",
          "data": {
            "text/plain": [
              "2"
            ]
          },
          "metadata": {
            "tags": []
          },
          "execution_count": 20
        }
      ]
    },
    {
      "cell_type": "code",
      "metadata": {
        "colab": {
          "base_uri": "https://localhost:8080/"
        },
        "id": "-goE8ceQTIEq",
        "outputId": "965a2f3f-cc0c-4e2c-b3f1-e778b514c2de"
      },
      "source": [
        "7%3"
      ],
      "execution_count": null,
      "outputs": [
        {
          "output_type": "execute_result",
          "data": {
            "text/plain": [
              "1"
            ]
          },
          "metadata": {
            "tags": []
          },
          "execution_count": 21
        }
      ]
    },
    {
      "cell_type": "markdown",
      "metadata": {
        "id": "QQtk-xOmTbk0"
      },
      "source": [
        "### คำสั่ง print แบบพิเศษ (การ format string)"
      ]
    },
    {
      "cell_type": "code",
      "metadata": {
        "colab": {
          "base_uri": "https://localhost:8080/"
        },
        "id": "4LhxBpVDTJrd",
        "outputId": "5fae304e-d79f-46c9-9d48-73b49fa783fc"
      },
      "source": [
        "print('ตัวแปร') #สิ่งที่อยู่ข้างในวงเล็บคือ ตัวเเปร เเละ string(ข้อความ)"
      ],
      "execution_count": null,
      "outputs": [
        {
          "output_type": "stream",
          "text": [
            "ตัวแปร\n"
          ],
          "name": "stdout"
        }
      ]
    },
    {
      "cell_type": "code",
      "metadata": {
        "colab": {
          "base_uri": "https://localhost:8080/"
        },
        "id": "cX5Ou8D8T1ok",
        "outputId": "93098137-269b-4855-97bf-5e518d6dbd9a"
      },
      "source": [
        "print(f'% คือการหารเอาเศษ เช่น 7%3 = {7%3}') #เพิ่ม f หน้า 'sting' เเละใช้ {} เพื่อใส่ code"
      ],
      "execution_count": null,
      "outputs": [
        {
          "output_type": "stream",
          "text": [
            "% คือการหารเอาเศษ เช่น 7%3 = 1\n"
          ],
          "name": "stdout"
        }
      ]
    },
    {
      "cell_type": "code",
      "metadata": {
        "colab": {
          "base_uri": "https://localhost:8080/"
        },
        "id": "2GOvWYQAUEu7",
        "outputId": "bb4e609a-7c24-4d57-9100-60681929f866"
      },
      "source": [
        "print(f'% คือการหารเอาเศษ เช่น 7%3 = {7%3} \\\\\r\n",
        "          \\n แต่ / คือการหารปกติ เช่น 7/3 = {7/3}) \\\\\r\n",
        "          \\n เเละ คือการหารเอาส่วน เช่น 7//3 = {7//3}\\\\\r\n",
        "          \\n หรือ int เพื่อหารเอาส่วน เช่น int(7/3) = {int(7/3)}')# \\n คือการขึ้นบรรทัดใหม่"
      ],
      "execution_count": null,
      "outputs": [
        {
          "output_type": "stream",
          "text": [
            "% คือการหารเอาเศษ เช่น 7%3 = 1 \\          \n",
            " แต่ / คือการหารปกติ เช่น 7/3 = 2.3333333333333335) \\          \n",
            " เเละ คือการหารเอาส่วน เช่น 7//3 = 2\\          \n",
            " หรือ int เพื่อหารเอาส่วน เช่น int(7/3) = 2\n"
          ],
          "name": "stdout"
        }
      ]
    },
    {
      "cell_type": "markdown",
      "metadata": {
        "id": "MCFh996hapsG"
      },
      "source": [
        "###DATA STRUCTURE (โครงสร้างข้อมูล)"
      ]
    },
    {
      "cell_type": "markdown",
      "metadata": {
        "id": "w6IyyQKlawSE"
      },
      "source": [
        "### list คือ การเอาตัวแปรหลายๆตัวแปรมาเรียงกัน\r\n",
        "### list \r\n"
      ]
    },
    {
      "cell_type": "markdown",
      "metadata": {
        "id": "JSU6sBX3a-uw"
      },
      "source": [
        "###แบบที่ 1 > square brackets"
      ]
    },
    {
      "cell_type": "code",
      "metadata": {
        "colab": {
          "base_uri": "https://localhost:8080/"
        },
        "id": "KZwBrDtmZxtr",
        "outputId": "853475a5-737b-4395-fd97-72a89cf719fd"
      },
      "source": [
        "list_a = []\r\n",
        "print(list_a)"
      ],
      "execution_count": null,
      "outputs": [
        {
          "output_type": "stream",
          "text": [
            "[]\n"
          ],
          "name": "stdout"
        }
      ]
    },
    {
      "cell_type": "code",
      "metadata": {
        "colab": {
          "base_uri": "https://localhost:8080/"
        },
        "id": "xyMfxnkubHtR",
        "outputId": "98248b5d-1538-42ca-d3fa-085a940fbfe1"
      },
      "source": [
        "list_b = [1,5,'v']\r\n",
        "print(list_b)"
      ],
      "execution_count": null,
      "outputs": [
        {
          "output_type": "stream",
          "text": [
            "[1, 5, 'v']\n"
          ],
          "name": "stdout"
        }
      ]
    },
    {
      "cell_type": "markdown",
      "metadata": {
        "id": "jhCKUfhzbe-Z"
      },
      "source": [
        "### ลำดับทที่อยู่ใน list มีความสำคัญ (ลำดับใน list เริ่มจาก 0,1,2,...)"
      ]
    },
    {
      "cell_type": "code",
      "metadata": {
        "colab": {
          "base_uri": "https://localhost:8080/"
        },
        "id": "CtB5M2oObPAX",
        "outputId": "1c86f05b-3eb4-436f-809a-c7f1c31c0aba"
      },
      "source": [
        "list_b[1]"
      ],
      "execution_count": null,
      "outputs": [
        {
          "output_type": "execute_result",
          "data": {
            "text/plain": [
              "5"
            ]
          },
          "metadata": {
            "tags": []
          },
          "execution_count": 34
        }
      ]
    },
    {
      "cell_type": "markdown",
      "metadata": {
        "id": "4f3XIQerbwoi"
      },
      "source": [
        "### แบบที่2"
      ]
    },
    {
      "cell_type": "code",
      "metadata": {
        "colab": {
          "base_uri": "https://localhost:8080/"
        },
        "id": "AxEs8y6vbu3F",
        "outputId": "86074b03-2272-4ed8-db63-0281d17d2e4d"
      },
      "source": [
        "list_c = list_a\r\n",
        "list_c"
      ],
      "execution_count": null,
      "outputs": [
        {
          "output_type": "execute_result",
          "data": {
            "text/plain": [
              "[]"
            ]
          },
          "metadata": {
            "tags": []
          },
          "execution_count": 35
        }
      ]
    },
    {
      "cell_type": "markdown",
      "metadata": {
        "id": "Kzisw-edcIxh"
      },
      "source": [
        "### append() เพิ่มสมาชิกเข้าไปใน list"
      ]
    },
    {
      "cell_type": "code",
      "metadata": {
        "colab": {
          "base_uri": "https://localhost:8080/"
        },
        "id": "WXc2b8__b8bG",
        "outputId": "be69cc4c-4f94-4e02-990b-136560e66c19"
      },
      "source": [
        "list_b.append('u')\r\n",
        "print(list_b)"
      ],
      "execution_count": null,
      "outputs": [
        {
          "output_type": "stream",
          "text": [
            "[1, 5, 'v', 'u']\n"
          ],
          "name": "stdout"
        }
      ]
    },
    {
      "cell_type": "code",
      "metadata": {
        "colab": {
          "base_uri": "https://localhost:8080/",
          "height": 35
        },
        "id": "vJAnc8g_cVJ7",
        "outputId": "2f5b6fd2-9960-4144-9b0a-50aad18cc063"
      },
      "source": [
        "list_b.pop() ### ดึงสมาชิกลำดับท้ายสุดออกมาจาก list"
      ],
      "execution_count": null,
      "outputs": [
        {
          "output_type": "execute_result",
          "data": {
            "application/vnd.google.colaboratory.intrinsic+json": {
              "type": "string"
            },
            "text/plain": [
              "'u'"
            ]
          },
          "metadata": {
            "tags": []
          },
          "execution_count": 38
        }
      ]
    },
    {
      "cell_type": "code",
      "metadata": {
        "colab": {
          "base_uri": "https://localhost:8080/"
        },
        "id": "21FWxXUVcdwF",
        "outputId": "36e0ec14-2650-4ba1-c80b-b0d7a111f048"
      },
      "source": [
        "list_b"
      ],
      "execution_count": null,
      "outputs": [
        {
          "output_type": "execute_result",
          "data": {
            "text/plain": [
              "[1, 5, 'v']"
            ]
          },
          "metadata": {
            "tags": []
          },
          "execution_count": 39
        }
      ]
    },
    {
      "cell_type": "code",
      "metadata": {
        "colab": {
          "base_uri": "https://localhost:8080/"
        },
        "id": "QEHMQCiQcf4c",
        "outputId": "fd454c36-4164-4079-d69d-e2c43e4f579e"
      },
      "source": [
        "list_b.append(list_a)\r\n",
        "print(list_b)"
      ],
      "execution_count": null,
      "outputs": [
        {
          "output_type": "stream",
          "text": [
            "[1, 5, 'v', []]\n"
          ],
          "name": "stdout"
        }
      ]
    },
    {
      "cell_type": "code",
      "metadata": {
        "colab": {
          "base_uri": "https://localhost:8080/",
          "height": 35
        },
        "id": "JfVnTfGBduYV",
        "outputId": "a1c6b9e3-c129-48ae-c16f-ef3b56ae7b97"
      },
      "source": [
        "t = 'python is easy'\r\n",
        "t"
      ],
      "execution_count": null,
      "outputs": [
        {
          "output_type": "execute_result",
          "data": {
            "application/vnd.google.colaboratory.intrinsic+json": {
              "type": "string"
            },
            "text/plain": [
              "'python is easy'"
            ]
          },
          "metadata": {
            "tags": []
          },
          "execution_count": 43
        }
      ]
    },
    {
      "cell_type": "code",
      "metadata": {
        "colab": {
          "base_uri": "https://localhost:8080/"
        },
        "id": "AA0E3E8cc1ap",
        "outputId": "6af6c056-e09f-41c3-f6f0-cc56450dc767"
      },
      "source": [
        "len(list_b) # len คือความมยาวของ list (จำนวนสมาชิก)"
      ],
      "execution_count": null,
      "outputs": [
        {
          "output_type": "execute_result",
          "data": {
            "text/plain": [
              "4"
            ]
          },
          "metadata": {
            "tags": []
          },
          "execution_count": 42
        }
      ]
    },
    {
      "cell_type": "code",
      "metadata": {
        "colab": {
          "base_uri": "https://localhost:8080/"
        },
        "id": "ePMxSQO_djoD",
        "outputId": "a2f412e7-2c20-44cd-a3a2-02c3c9e3f810"
      },
      "source": [
        "len(t)"
      ],
      "execution_count": null,
      "outputs": [
        {
          "output_type": "execute_result",
          "data": {
            "text/plain": [
              "14"
            ]
          },
          "metadata": {
            "tags": []
          },
          "execution_count": 44
        }
      ]
    },
    {
      "cell_type": "markdown",
      "metadata": {
        "id": "AYgvx-2leEH6"
      },
      "source": [
        "### access a member of a list (list and string)\r\n",
        "### โดยเริ่มนับจะเริ่มนับจาก 0 \r\n",
        "### 0 คือสมาชิกตัวแรก ,-1 คือสมาชิกตัวสุดท้าย"
      ]
    },
    {
      "cell_type": "code",
      "metadata": {
        "colab": {
          "base_uri": "https://localhost:8080/",
          "height": 35
        },
        "id": "TPN1gDRjd0eT",
        "outputId": "32f8b8b9-0d4e-431c-d701-2855764d42eb"
      },
      "source": [
        "t[1]"
      ],
      "execution_count": null,
      "outputs": [
        {
          "output_type": "execute_result",
          "data": {
            "application/vnd.google.colaboratory.intrinsic+json": {
              "type": "string"
            },
            "text/plain": [
              "'y'"
            ]
          },
          "metadata": {
            "tags": []
          },
          "execution_count": 45
        }
      ]
    },
    {
      "cell_type": "code",
      "metadata": {
        "colab": {
          "base_uri": "https://localhost:8080/",
          "height": 35
        },
        "id": "5nj-vNsvehXp",
        "outputId": "2d8a7852-d478-401e-fb3b-0e2ee1b620a8"
      },
      "source": [
        "t[-1]"
      ],
      "execution_count": null,
      "outputs": [
        {
          "output_type": "execute_result",
          "data": {
            "application/vnd.google.colaboratory.intrinsic+json": {
              "type": "string"
            },
            "text/plain": [
              "'y'"
            ]
          },
          "metadata": {
            "tags": []
          },
          "execution_count": 46
        }
      ]
    },
    {
      "cell_type": "markdown",
      "metadata": {
        "id": "hEqIEVulellw"
      },
      "source": [
        "### ตัวที่อยู่ใน [] เราเรียกว่า index (ตัวชี้)"
      ]
    },
    {
      "cell_type": "code",
      "metadata": {
        "colab": {
          "base_uri": "https://localhost:8080/",
          "height": 35
        },
        "id": "EBF-_vjWeivv",
        "outputId": "ea5de652-debe-4845-ffa7-e8836b9bf4b1"
      },
      "source": [
        "t[-3]"
      ],
      "execution_count": null,
      "outputs": [
        {
          "output_type": "execute_result",
          "data": {
            "application/vnd.google.colaboratory.intrinsic+json": {
              "type": "string"
            },
            "text/plain": [
              "'a'"
            ]
          },
          "metadata": {
            "tags": []
          },
          "execution_count": 47
        }
      ]
    },
    {
      "cell_type": "code",
      "metadata": {
        "colab": {
          "base_uri": "https://localhost:8080/",
          "height": 35
        },
        "id": "Q2pBaOPLe0LL",
        "outputId": "31626238-5503-41e7-b743-6a7906480a3c"
      },
      "source": [
        "t[-4]"
      ],
      "execution_count": null,
      "outputs": [
        {
          "output_type": "execute_result",
          "data": {
            "application/vnd.google.colaboratory.intrinsic+json": {
              "type": "string"
            },
            "text/plain": [
              "'e'"
            ]
          },
          "metadata": {
            "tags": []
          },
          "execution_count": 48
        }
      ]
    },
    {
      "cell_type": "markdown",
      "metadata": {
        "id": "0KZfkEoMfn33"
      },
      "source": [
        "### List slicing สามารถทำได้โดยใช้ colon :\r\n",
        "### [a:b] -> [a,b)"
      ]
    },
    {
      "cell_type": "code",
      "metadata": {
        "colab": {
          "base_uri": "https://localhost:8080/"
        },
        "id": "gkbiJWlXfLhb",
        "outputId": "b28fa191-9423-4af3-cf34-0ddea96c17a4"
      },
      "source": [
        "print(t)\r\n",
        "print(t[7:9])"
      ],
      "execution_count": null,
      "outputs": [
        {
          "output_type": "stream",
          "text": [
            "python is easy\n",
            "is\n"
          ],
          "name": "stdout"
        }
      ]
    },
    {
      "cell_type": "markdown",
      "metadata": {
        "id": "TD3yWBkbhE50"
      },
      "source": [
        "####ถ้าเว้นว่างหน้า : หมายความว่า หน้า : เริ่มตั้งเเต่ตัวเเรก\r\n",
        "####ถ้าเว้นว่างหลัง : หมายความว่า ไปจนถึงตัวสุดท้าย"
      ]
    },
    {
      "cell_type": "code",
      "metadata": {
        "colab": {
          "base_uri": "https://localhost:8080/"
        },
        "id": "D1GrpSzwg3yQ",
        "outputId": "b659e2c9-7ea9-4876-b9a6-622bfe002607"
      },
      "source": [
        "print(t)\r\n",
        "print(t[:6])\r\n",
        "print(t[10:])\r\n",
        "print(t[-4:])\r\n",
        "print(t[:])"
      ],
      "execution_count": null,
      "outputs": [
        {
          "output_type": "stream",
          "text": [
            "python is easy\n",
            "python\n",
            "easy\n",
            "easy\n",
            "python is easy\n"
          ],
          "name": "stdout"
        }
      ]
    },
    {
      "cell_type": "markdown",
      "metadata": {
        "id": "K50sz8FwiTBz"
      },
      "source": [
        "###  เราสามารถเอา list มาต่อกันได้ด้วย +"
      ]
    },
    {
      "cell_type": "code",
      "metadata": {
        "colab": {
          "base_uri": "https://localhost:8080/",
          "height": 35
        },
        "id": "WKtOXXX8heZ1",
        "outputId": "cf8516ce-fab9-4873-aa56-46aface318ae"
      },
      "source": [
        "t + '??'"
      ],
      "execution_count": null,
      "outputs": [
        {
          "output_type": "execute_result",
          "data": {
            "application/vnd.google.colaboratory.intrinsic+json": {
              "type": "string"
            },
            "text/plain": [
              "'python is easy??'"
            ]
          },
          "metadata": {
            "tags": []
          },
          "execution_count": 56
        }
      ]
    },
    {
      "cell_type": "code",
      "metadata": {
        "colab": {
          "base_uri": "https://localhost:8080/"
        },
        "id": "MUT4EfCJiaZy",
        "outputId": "b7c535c9-748f-4237-900d-cbd4cbfe8825"
      },
      "source": [
        "list_b + list_a"
      ],
      "execution_count": null,
      "outputs": [
        {
          "output_type": "execute_result",
          "data": {
            "text/plain": [
              "[1, 5, 'v', []]"
            ]
          },
          "metadata": {
            "tags": []
          },
          "execution_count": 60
        }
      ]
    },
    {
      "cell_type": "markdown",
      "metadata": {
        "id": "0RoSiWhRi64O"
      },
      "source": [
        "### การเเบ่ง string ตามสัญลักษณ์ที่กำหนด -> split string"
      ]
    },
    {
      "cell_type": "code",
      "metadata": {
        "colab": {
          "base_uri": "https://localhost:8080/"
        },
        "id": "c8NwprJXijKm",
        "outputId": "de081041-b650-4639-ee45-791ad7b5dccd"
      },
      "source": [
        "t.split(' ')"
      ],
      "execution_count": null,
      "outputs": [
        {
          "output_type": "execute_result",
          "data": {
            "text/plain": [
              "['python', 'is', 'easy']"
            ]
          },
          "metadata": {
            "tags": []
          },
          "execution_count": 58
        }
      ]
    },
    {
      "cell_type": "code",
      "metadata": {
        "id": "A5I2GPnhjBi6"
      },
      "source": [
        "time = '12:30:15'"
      ],
      "execution_count": null,
      "outputs": []
    },
    {
      "cell_type": "code",
      "metadata": {
        "colab": {
          "base_uri": "https://localhost:8080/"
        },
        "id": "eEb5hpGwjQay",
        "outputId": "be5b069a-f76d-4b2d-de69-743b40c3ae86"
      },
      "source": [
        "time.split(\":\")"
      ],
      "execution_count": null,
      "outputs": [
        {
          "output_type": "execute_result",
          "data": {
            "text/plain": [
              "['12', '30', '15']"
            ]
          },
          "metadata": {
            "tags": []
          },
          "execution_count": 62
        }
      ]
    },
    {
      "cell_type": "code",
      "metadata": {
        "colab": {
          "base_uri": "https://localhost:8080/"
        },
        "id": "TpEQWAQ1kbGR",
        "outputId": "48abc661-4616-4d61-be06-6842c111506b"
      },
      "source": [
        "t_sp = t.split(' ')\r\n",
        "print(t_sp)\r\n",
        "##วิธีรวมกลับ\r\n",
        "print(':'.join(t_sp))\r\n"
      ],
      "execution_count": null,
      "outputs": [
        {
          "output_type": "stream",
          "text": [
            "['python', 'is', 'easy']\n",
            "python:is:easy\n"
          ],
          "name": "stdout"
        }
      ]
    },
    {
      "cell_type": "markdown",
      "metadata": {
        "id": "AQVU19vPjnm1"
      },
      "source": [
        "###HW"
      ]
    },
    {
      "cell_type": "markdown",
      "metadata": {
        "id": "mlmIzth4ko7p"
      },
      "source": [
        "คำนวณเวลาเป้นวินาทีของเวลาต่อไปนี้โดยใช้คำสั่ง split() ช่วย (print ออกมาให้สวย\r\n",
        "งาม)\r\n",
        "12:30:15\r\n",
        "13:41:07\r\n",
        "12:53:15\r\n",
        "00:59:25\r\n",
        "11:11:11\r\n",
        "16:06:09"
      ]
    },
    {
      "cell_type": "code",
      "metadata": {
        "id": "60tWWwo-y6OR"
      },
      "source": [
        "a = '12:30:15'\r\n",
        "b = '13:41:07'\r\n",
        "c = '12:53:15'\r\n",
        "d = '00:59:25'\r\n",
        "e = '11:11:11'\r\n",
        "f = '16:06:09'"
      ],
      "execution_count": 22,
      "outputs": []
    },
    {
      "cell_type": "code",
      "metadata": {
        "id": "pasDrje_gH8J",
        "colab": {
          "base_uri": "https://localhost:8080/"
        },
        "outputId": "cba07e46-87b2-4f4b-885a-beae75d5e6f4"
      },
      "source": [
        "a1 = a.split(':')\r\n",
        "a1\r\n",
        "a11 = int(a1[0])*3600 \r\n",
        "a12 = int(a1[1])*60\r\n",
        "a13 = int(a1[2])\r\n",
        "print(a11+a12+a13)"
      ],
      "execution_count": 23,
      "outputs": [
        {
          "output_type": "stream",
          "text": [
            "45015\n"
          ],
          "name": "stdout"
        }
      ]
    },
    {
      "cell_type": "code",
      "metadata": {
        "id": "CeGXRW2ggzjC",
        "colab": {
          "base_uri": "https://localhost:8080/"
        },
        "outputId": "11605a3a-0a51-43a2-e1c2-453a7a58ca29"
      },
      "source": [
        "b1 = b.split(':')\r\n",
        "b1\r\n",
        "b11 = int(b1[0])*3600 \r\n",
        "b12 = int(b1[1])*60\r\n",
        "b13 = int(b1[2])\r\n",
        "print(b11+b12+b13)"
      ],
      "execution_count": 24,
      "outputs": [
        {
          "output_type": "stream",
          "text": [
            "49267\n"
          ],
          "name": "stdout"
        }
      ]
    },
    {
      "cell_type": "code",
      "metadata": {
        "id": "y6wzNCb4hrin",
        "colab": {
          "base_uri": "https://localhost:8080/"
        },
        "outputId": "8c93e03a-40ff-4183-f98b-aebc575ca5c1"
      },
      "source": [
        "c1 = c.split(':')\r\n",
        "c1\r\n",
        "c11 = int(c1[0])*3600 \r\n",
        "c12 = int(c1[1])*60\r\n",
        "c13 = int(c1[2])\r\n",
        "print(c11+c12+c13)"
      ],
      "execution_count": 25,
      "outputs": [
        {
          "output_type": "stream",
          "text": [
            "46395\n"
          ],
          "name": "stdout"
        }
      ]
    },
    {
      "cell_type": "code",
      "metadata": {
        "id": "SNn72Abhhxe1",
        "colab": {
          "base_uri": "https://localhost:8080/"
        },
        "outputId": "6b46a270-c1c9-4347-e981-5a79e16e0928"
      },
      "source": [
        "d1 = d.split(':')\r\n",
        "d1\r\n",
        "d11 = int(d1[0])*3600 \r\n",
        "d12 = int(d1[1])*60\r\n",
        "d13 = int(d1[2])\r\n",
        "print(d11+d12+d13)"
      ],
      "execution_count": 26,
      "outputs": [
        {
          "output_type": "stream",
          "text": [
            "3565\n"
          ],
          "name": "stdout"
        }
      ]
    },
    {
      "cell_type": "code",
      "metadata": {
        "id": "NLlTSKyKh2sB",
        "colab": {
          "base_uri": "https://localhost:8080/"
        },
        "outputId": "e102fa35-8597-4e5e-8320-a0e12b714a2b"
      },
      "source": [
        "e1 = e.split(':')\r\n",
        "e1\r\n",
        "e11 = int(e1[0])*3600 \r\n",
        "e12 = int(e1[1])*60\r\n",
        "e13 = int(e1[2])\r\n",
        "print(e11+e12+e13)"
      ],
      "execution_count": 27,
      "outputs": [
        {
          "output_type": "stream",
          "text": [
            "40271\n"
          ],
          "name": "stdout"
        }
      ]
    },
    {
      "cell_type": "code",
      "metadata": {
        "id": "Y6up5Kobh9fH",
        "colab": {
          "base_uri": "https://localhost:8080/"
        },
        "outputId": "3245553c-d3cb-41fe-ac64-955e790b5f4c"
      },
      "source": [
        "f1 = f.split(':')\r\n",
        "f1\r\n",
        "f11 = int(f1[0])*3600 \r\n",
        "f12 = int(f1[1])*60\r\n",
        "f13 = int(f1[2])\r\n",
        "print(f11+f12+f13)"
      ],
      "execution_count": 28,
      "outputs": [
        {
          "output_type": "stream",
          "text": [
            "57969\n"
          ],
          "name": "stdout"
        }
      ]
    },
    {
      "cell_type": "markdown",
      "metadata": {
        "id": "n_xjDXP1twKq"
      },
      "source": [
        "ให้สร้างฟังก์ชั่นคำนวณเวลาเป็นวินาทีของเวลาใดๆ เเละ print ออกมาให้สวยงาม"
      ]
    },
    {
      "cell_type": "code",
      "metadata": {
        "id": "58WaFxKQiCfJ"
      },
      "source": [
        "def time_one(time):\r\n",
        "      list_time = time.split(':')\r\n",
        "      h = (int(list_time[0]))*3600\r\n",
        "      m = (int(list_time[1]))*60\r\n",
        "      s = (int(list_time[2]))\r\n",
        "      print(f' เวลา {time} เท่ากับวินาที  {h+m+s} วินาที')"
      ],
      "execution_count": 78,
      "outputs": []
    },
    {
      "cell_type": "code",
      "metadata": {
        "id": "sqTXmWHdu_VP",
        "outputId": "11cae852-5c05-4258-9ba8-b98b8dad0e12",
        "colab": {
          "base_uri": "https://localhost:8080/"
        }
      },
      "source": [
        "time_one('12:30:15')"
      ],
      "execution_count": 79,
      "outputs": [
        {
          "output_type": "stream",
          "text": [
            " เวลา 12:30:15 เท่ากับวินาที  45015 วินาที\n"
          ],
          "name": "stdout"
        }
      ]
    },
    {
      "cell_type": "markdown",
      "metadata": {
        "id": "zQX3Zhy_2-jF"
      },
      "source": [
        "ให้ สร้าง list ของ เวลา  ['12:30:15', '13:41:07', '12:53:15', '00:59:25', '11:11:11', '16:06:09']เเล้ววนวูปเรียกฟังก์ชันคำนวณเวลาเป็น  วินาที *commit ว่า HW3"
      ]
    },
    {
      "cell_type": "code",
      "metadata": {
        "id": "0XQRnFlivbP_"
      },
      "source": [
        ""
      ],
      "execution_count": 5,
      "outputs": []
    }
  ]
}