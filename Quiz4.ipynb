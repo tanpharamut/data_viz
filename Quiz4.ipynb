{
  "nbformat": 4,
  "nbformat_minor": 0,
  "metadata": {
    "colab": {
      "name": "Untitled6.ipynb",
      "provenance": [],
      "authorship_tag": "ABX9TyMLrapP/pClw+sS/O2EJMBr",
      "include_colab_link": true
    },
    "kernelspec": {
      "name": "python3",
      "display_name": "Python 3"
    }
  },
  "cells": [
    {
      "cell_type": "markdown",
      "metadata": {
        "id": "view-in-github",
        "colab_type": "text"
      },
      "source": [
        "<a href=\"https://colab.research.google.com/github/tanpharamut/data_viz/blob/main/Quiz4.ipynb\" target=\"_parent\"><img src=\"https://colab.research.google.com/assets/colab-badge.svg\" alt=\"Open In Colab\"/></a>"
      ]
    },
    {
      "cell_type": "code",
      "metadata": {
        "id": "8_o6u6cosOpz"
      },
      "source": [
        "import pandas as pd"
      ],
      "execution_count": 2,
      "outputs": []
    },
    {
      "cell_type": "code",
      "metadata": {
        "colab": {
          "base_uri": "https://localhost:8080/"
        },
        "id": "hXDs22BhsU4_",
        "outputId": "b06b8d67-c3d1-4048-82ff-9c504eac233c"
      },
      "source": [
        "from google.colab import drive\n",
        "drive.mount('/content/drive')"
      ],
      "execution_count": 4,
      "outputs": [
        {
          "output_type": "stream",
          "text": [
            "Mounted at /content/drive\n"
          ],
          "name": "stdout"
        }
      ]
    },
    {
      "cell_type": "code",
      "metadata": {
        "id": "xgu0QCtusknY"
      },
      "source": [
        "import os \r\n",
        "path = '/content/drive/My Drive/data_viz'"
      ],
      "execution_count": 9,
      "outputs": []
    },
    {
      "cell_type": "code",
      "metadata": {
        "colab": {
          "base_uri": "https://localhost:8080/",
          "height": 510
        },
        "id": "5X8-U8G8rGs6",
        "outputId": "17359c65-0ae9-44ab-d541-2182c6a262d5"
      },
      "source": [
        "day0 = pd.read_excel('/content/drive/My Drive/data_viz/passenger-covid19.xlsx',sheet_name=0,skiprows=0)\r\n",
        "day0.head()"
      ],
      "execution_count": 16,
      "outputs": [
        {
          "output_type": "execute_result",
          "data": {
            "text/html": [
              "<div>\n",
              "<style scoped>\n",
              "    .dataframe tbody tr th:only-of-type {\n",
              "        vertical-align: middle;\n",
              "    }\n",
              "\n",
              "    .dataframe tbody tr th {\n",
              "        vertical-align: top;\n",
              "    }\n",
              "\n",
              "    .dataframe thead th {\n",
              "        text-align: right;\n",
              "    }\n",
              "</style>\n",
              "<table border=\"1\" class=\"dataframe\">\n",
              "  <thead>\n",
              "    <tr style=\"text-align: right;\">\n",
              "      <th></th>\n",
              "      <th>ขนคน/ขนสินค้า</th>\n",
              "      <th>โหมดการเดินทาง</th>\n",
              "      <th>รูปแบบการเดินทาง</th>\n",
              "      <th>สาธารณะ/ส่วนบุคคล</th>\n",
              "      <th>หน่วยงาน</th>\n",
              "      <th>ยานพาหนะ/ท่า</th>\n",
              "      <th>ม.ค. 2562</th>\n",
              "      <th>ก.พ. 2562</th>\n",
              "      <th>มี.ค. 2562</th>\n",
              "      <th>เม.ย. 2562</th>\n",
              "      <th>พ.ค. 2562</th>\n",
              "      <th>มิ.ย. 2562</th>\n",
              "      <th>ก.ค. 2562</th>\n",
              "      <th>ส.ค. 2562</th>\n",
              "      <th>ก.ย. 2562</th>\n",
              "      <th>ต.ค. 2562</th>\n",
              "      <th>พ.ย. 2562</th>\n",
              "      <th>ธ.ค. 2562</th>\n",
              "    </tr>\n",
              "  </thead>\n",
              "  <tbody>\n",
              "    <tr>\n",
              "      <th>0</th>\n",
              "      <td>ขนคน (คน)</td>\n",
              "      <td>ทางบก</td>\n",
              "      <td>การเดินทางระหว่างจังหวัด</td>\n",
              "      <td>สาธารณะ</td>\n",
              "      <td>บขส.</td>\n",
              "      <td>รถ ขบส. และ รถร่วม</td>\n",
              "      <td>5236331</td>\n",
              "      <td>4628878.0</td>\n",
              "      <td>5234387.0</td>\n",
              "      <td>5137450.0</td>\n",
              "      <td>4885221.0</td>\n",
              "      <td>4572261.0</td>\n",
              "      <td>4772689.0</td>\n",
              "      <td>4701554.0</td>\n",
              "      <td>4482707.0</td>\n",
              "      <td>4774815.0</td>\n",
              "      <td>4559610.0</td>\n",
              "      <td>4840673.0</td>\n",
              "    </tr>\n",
              "    <tr>\n",
              "      <th>1</th>\n",
              "      <td>ขนคน (คน)</td>\n",
              "      <td>ทางบก</td>\n",
              "      <td>การเดินทางระหว่างจังหวัด</td>\n",
              "      <td>สาธารณะ</td>\n",
              "      <td>ขบ.</td>\n",
              "      <td>รถ Taxi</td>\n",
              "      <td>NaN</td>\n",
              "      <td>NaN</td>\n",
              "      <td>NaN</td>\n",
              "      <td>NaN</td>\n",
              "      <td>NaN</td>\n",
              "      <td>NaN</td>\n",
              "      <td>NaN</td>\n",
              "      <td>NaN</td>\n",
              "      <td>NaN</td>\n",
              "      <td>NaN</td>\n",
              "      <td>NaN</td>\n",
              "      <td>NaN</td>\n",
              "    </tr>\n",
              "    <tr>\n",
              "      <th>2</th>\n",
              "      <td>ขนคน (คน)</td>\n",
              "      <td>ทางบก</td>\n",
              "      <td>การเดินทางระหว่างจังหวัด</td>\n",
              "      <td>สาธารณะ</td>\n",
              "      <td>ขบ.</td>\n",
              "      <td>รถหมวด 3</td>\n",
              "      <td>2550864</td>\n",
              "      <td>2334128.0</td>\n",
              "      <td>2599144.0</td>\n",
              "      <td>2602024.0</td>\n",
              "      <td>2543424.0</td>\n",
              "      <td>2435944.0</td>\n",
              "      <td>2526104.0</td>\n",
              "      <td>2492728.0</td>\n",
              "      <td>2420736.0</td>\n",
              "      <td>2499408.0</td>\n",
              "      <td>2450888.0</td>\n",
              "      <td>2516032.0</td>\n",
              "    </tr>\n",
              "    <tr>\n",
              "      <th>3</th>\n",
              "      <td>ขนคน (คัน)</td>\n",
              "      <td>ทางบก</td>\n",
              "      <td>การเดินทางระหว่างจังหวัด</td>\n",
              "      <td>ส่วนบุคคล</td>\n",
              "      <td>ทล.</td>\n",
              "      <td>รถยนต์ (10 จุดสำรวจ)</td>\n",
              "      <td>28907234</td>\n",
              "      <td>26699682.0</td>\n",
              "      <td>30210655.0</td>\n",
              "      <td>28542444.0</td>\n",
              "      <td>29407838.0</td>\n",
              "      <td>27789633.0</td>\n",
              "      <td>28811411.0</td>\n",
              "      <td>29552867.0</td>\n",
              "      <td>27950945.0</td>\n",
              "      <td>29335664.0</td>\n",
              "      <td>28325020.0</td>\n",
              "      <td>29615013.0</td>\n",
              "    </tr>\n",
              "    <tr>\n",
              "      <th>4</th>\n",
              "      <td>ขนคน (คัน)</td>\n",
              "      <td>ทางบก</td>\n",
              "      <td>การเดินทางระหว่างจังหวัด</td>\n",
              "      <td>ส่วนบุคคล</td>\n",
              "      <td>กทพ.</td>\n",
              "      <td>รถยนต์ (ทางด่วน)</td>\n",
              "      <td>56404661</td>\n",
              "      <td>51536713.0</td>\n",
              "      <td>57376504.0</td>\n",
              "      <td>46838468.0</td>\n",
              "      <td>45769555.0</td>\n",
              "      <td>47344042.0</td>\n",
              "      <td>46027953.0</td>\n",
              "      <td>47566521.0</td>\n",
              "      <td>44765838.0</td>\n",
              "      <td>47236151.0</td>\n",
              "      <td>46996660.0</td>\n",
              "      <td>47294111.0</td>\n",
              "    </tr>\n",
              "  </tbody>\n",
              "</table>\n",
              "</div>"
            ],
            "text/plain": [
              "  ขนคน/ขนสินค้า โหมดการเดินทาง  ...   พ.ย. 2562   ธ.ค. 2562\n",
              "0     ขนคน (คน)          ทางบก  ...   4559610.0   4840673.0\n",
              "1     ขนคน (คน)          ทางบก  ...         NaN         NaN\n",
              "2     ขนคน (คน)          ทางบก  ...   2450888.0   2516032.0\n",
              "3    ขนคน (คัน)          ทางบก  ...  28325020.0  29615013.0\n",
              "4    ขนคน (คัน)          ทางบก  ...  46996660.0  47294111.0\n",
              "\n",
              "[5 rows x 18 columns]"
            ]
          },
          "metadata": {
            "tags": []
          },
          "execution_count": 16
        }
      ]
    },
    {
      "cell_type": "code",
      "metadata": {
        "colab": {
          "base_uri": "https://localhost:8080/",
          "height": 148
        },
        "id": "EHZwN05CsNlg",
        "outputId": "7ec8cedd-3ae3-4c10-f369-b30270bcb7c4"
      },
      "source": [
        "day01 = day0[day0['ยานพาหนะ/ท่า']=='ท่าอากาศยานสุวรรณภูมิ ขาออกประเทศ']\r\n",
        "day01.head()"
      ],
      "execution_count": 17,
      "outputs": [
        {
          "output_type": "execute_result",
          "data": {
            "text/html": [
              "<div>\n",
              "<style scoped>\n",
              "    .dataframe tbody tr th:only-of-type {\n",
              "        vertical-align: middle;\n",
              "    }\n",
              "\n",
              "    .dataframe tbody tr th {\n",
              "        vertical-align: top;\n",
              "    }\n",
              "\n",
              "    .dataframe thead th {\n",
              "        text-align: right;\n",
              "    }\n",
              "</style>\n",
              "<table border=\"1\" class=\"dataframe\">\n",
              "  <thead>\n",
              "    <tr style=\"text-align: right;\">\n",
              "      <th></th>\n",
              "      <th>ขนคน/ขนสินค้า</th>\n",
              "      <th>โหมดการเดินทาง</th>\n",
              "      <th>รูปแบบการเดินทาง</th>\n",
              "      <th>สาธารณะ/ส่วนบุคคล</th>\n",
              "      <th>หน่วยงาน</th>\n",
              "      <th>ยานพาหนะ/ท่า</th>\n",
              "      <th>ม.ค. 2562</th>\n",
              "      <th>ก.พ. 2562</th>\n",
              "      <th>มี.ค. 2562</th>\n",
              "      <th>เม.ย. 2562</th>\n",
              "      <th>พ.ค. 2562</th>\n",
              "      <th>มิ.ย. 2562</th>\n",
              "      <th>ก.ค. 2562</th>\n",
              "      <th>ส.ค. 2562</th>\n",
              "      <th>ก.ย. 2562</th>\n",
              "      <th>ต.ค. 2562</th>\n",
              "      <th>พ.ย. 2562</th>\n",
              "      <th>ธ.ค. 2562</th>\n",
              "    </tr>\n",
              "  </thead>\n",
              "  <tbody>\n",
              "    <tr>\n",
              "      <th>33</th>\n",
              "      <td>ขนคน (คน)</td>\n",
              "      <td>ทางอากาศ</td>\n",
              "      <td>การเดินทางระหว่างประเทศ</td>\n",
              "      <td>สาธารณะ</td>\n",
              "      <td>ทอท.</td>\n",
              "      <td>ท่าอากาศยานสุวรรณภูมิ ขาออกประเทศ</td>\n",
              "      <td>2028379</td>\n",
              "      <td>1919774.0</td>\n",
              "      <td>2064603.0</td>\n",
              "      <td>1891725.0</td>\n",
              "      <td>1652994.0</td>\n",
              "      <td>1600979.0</td>\n",
              "      <td>1762927.0</td>\n",
              "      <td>1888899.0</td>\n",
              "      <td>1543004.0</td>\n",
              "      <td>1729385.0</td>\n",
              "      <td>1799319.0</td>\n",
              "      <td>1952980.0</td>\n",
              "    </tr>\n",
              "  </tbody>\n",
              "</table>\n",
              "</div>"
            ],
            "text/plain": [
              "   ขนคน/ขนสินค้า โหมดการเดินทาง  ...  พ.ย. 2562  ธ.ค. 2562\n",
              "33     ขนคน (คน)       ทางอากาศ  ...  1799319.0  1952980.0\n",
              "\n",
              "[1 rows x 18 columns]"
            ]
          },
          "metadata": {
            "tags": []
          },
          "execution_count": 17
        }
      ]
    },
    {
      "cell_type": "code",
      "metadata": {
        "id": "VDlVUcOPtvsn"
      },
      "source": [
        ""
      ],
      "execution_count": null,
      "outputs": []
    }
  ]
}